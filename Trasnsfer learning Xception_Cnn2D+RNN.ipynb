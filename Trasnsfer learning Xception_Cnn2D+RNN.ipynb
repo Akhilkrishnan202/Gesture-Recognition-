{
 "cells": [
  {
   "cell_type": "markdown",
   "id": "63edd74e",
   "metadata": {},
   "source": [
    "# Gesture Recognition\n",
    "In this group project, you are going to build a 3D Conv model that will be able to predict the 5 gestures correctly. Please import the following libraries to get started. Once you have completed the code you can download the notebook for making a submission."
   ]
  },
  {
   "cell_type": "code",
   "execution_count": 1,
   "id": "61317c12",
   "metadata": {},
   "outputs": [],
   "source": [
    "import numpy as np\n",
    "import os\n",
    "from imageio import imread\n",
    "from skimage.transform import resize\n",
    "import datetime\n",
    "import os\n",
    "import matplotlib.pyplot as plt\n",
    "%matplotlib inline"
   ]
  },
  {
   "cell_type": "markdown",
   "id": "4401b97b",
   "metadata": {},
   "source": [
    "We set the random seed so that the results don't vary drastically."
   ]
  },
  {
   "cell_type": "code",
   "execution_count": 2,
   "id": "a4ae1518",
   "metadata": {},
   "outputs": [],
   "source": [
    "np.random.seed(30)\n",
    "import random as rn\n",
    "rn.seed(30)\n",
    "from tensorflow import keras\n",
    "import tensorflow as tf\n",
    "tf.random.set_seed(30)"
   ]
  },
  {
   "cell_type": "markdown",
   "id": "98146872",
   "metadata": {},
   "source": [
    "In this block, you read the folder names for training and validation. You also set the `batch_size` here. Note that you set the batch size in such a way that you are able to use the GPU in full capacity. You keep increasing the batch size until the machine throws an error."
   ]
  },
  {
   "cell_type": "markdown",
   "id": "3b0b2d01",
   "metadata": {},
   "source": [
    "**data path: /home/datasets/Project_data**"
   ]
  },
  {
   "cell_type": "code",
   "execution_count": 3,
   "id": "d0c6ccdc",
   "metadata": {},
   "outputs": [],
   "source": [
    "train_doc = np.random.permutation(open('F:\\\\UPGRAD\\\\5. Deep Learning\\\\Module 6 - Gesture recognition assignment\\\\Project_data\\\\Project_data\\\\train.csv').readlines())\n",
    "val_doc = np.random.permutation(open('F:\\\\UPGRAD\\\\5. Deep Learning\\\\Module 6 - Gesture recognition assignment\\\\Project_data\\\\Project_data\\\\val.csv').readlines())\n",
    "batch_size = 64 #experiment with the batch size"
   ]
  },
  {
   "cell_type": "markdown",
   "id": "28e23a0e",
   "metadata": {},
   "source": [
    "## Generator\n",
    "This is one of the most important part of the code. The overall structure of the generator has been given. In the generator, you are going to preprocess the images as you have images of 2 different dimensions as well as create a batch of video frames. You have to experiment with `img_idx`, `y`,`z` and normalization such that you get high accuracy."
   ]
  },
  {
   "cell_type": "code",
   "execution_count": 4,
   "id": "967edbd5",
   "metadata": {},
   "outputs": [],
   "source": [
    "img_idx=0"
   ]
  },
  {
   "cell_type": "code",
   "execution_count": 5,
   "id": "451edcf1",
   "metadata": {},
   "outputs": [],
   "source": [
    "x = 20 #umber of images selected in img_idx\n",
    "y = 120 #size of image \n",
    "z = 120 #size of image "
   ]
  },
  {
   "cell_type": "code",
   "execution_count": 6,
   "id": "f1843375",
   "metadata": {},
   "outputs": [],
   "source": [
    "def generator(source_path, folder_list, batch_size):\n",
    "    print( 'Source path = ', source_path, '; batch size =', batch_size)\n",
    "    # Range is selected as (5,x+5) so that 20 images from the center of 30 images are selected (5th image to 24th image)\n",
    "    img_idx = [x for x in range(5,x+5)] #create a list of image numbers you want to use for a particular video\n",
    "    while True:\n",
    "        t = np.random.permutation(folder_list)\n",
    "        num_batches = len(folder_list)//batch_size # calculate the number of batches\n",
    "        for batch in range(num_batches): # we iterate over the number of batches\n",
    "            batch_data = np.zeros((batch_size,x,y,z,3)) # x is the number of images you use for each video, (y,z) is the final size of the input images and 3 is the number of channels RGB\n",
    "            batch_labels = np.zeros((batch_size,5)) # batch_labels is the one hot representation of the output\n",
    "            for folder in range(batch_size): # iterate over the batch_size\n",
    "                imgs = os.listdir(source_path+'/'+ t[folder + (batch*batch_size)].split(';')[0]) # read all the images in the folder\n",
    "                for idx,item in enumerate(img_idx): #  Iterate iver the frames/images of a folder to read them in\n",
    "                    image = imread(source_path+'/'+ t[folder + (batch*batch_size)].strip().split(';')[0]+'/'+imgs[item]).astype(np.float32)\n",
    "                    \n",
    "                    #crop the images and resize them. Note that the images are of 2 different shape \n",
    "                    #and the conv3D will throw error if the inputs in a batch have different shapes\n",
    "                    img_new = resize(image,(y,z))\n",
    "                    \n",
    "                    img_new = img_new/255 # normalising \n",
    "                    \n",
    "                    batch_data[folder,idx,:,:,0] = (img_new[:,:,0])#normalise and feed in the image\n",
    "                    batch_data[folder,idx,:,:,1] = (img_new[:,:,1])#normalise and feed in the image\n",
    "                    batch_data[folder,idx,:,:,2] = (img_new[:,:,2])#normalise and feed in the image\n",
    "                    \n",
    "                batch_labels[folder, int(t[folder + (batch*batch_size)].strip().split(';')[2])] = 1\n",
    "            yield batch_data, batch_labels #you yield the batch_data and the batch_labels, remember what does yield do\n",
    "\n",
    "        \n",
    "        # write the code for the remaining data points which are left after full batches\n",
    "        if (len(folder_list) != batch_size*num_batches):\n",
    "            print(\"Batch: \",num_batches+1,\"Index:\", batch_size)\n",
    "            batch_size = len(folder_list) - (batch_size*num_batches)\n",
    "            # new batch size is the rest of the folders present after dividing the batch\n",
    "            for batch in range(num_batches): # we iterate over the number of batches\n",
    "                batch_data = np.zeros((batch_size,x,y,z,3)) # x is the number of images you use for each video, (y,z) is the final size of the input images and 3 is the number of channels RGB\n",
    "                batch_labels = np.zeros((batch_size,5)) # batch_labels is the one hot representation of the output\n",
    "                for folder in range(batch_size): # iterate over the batch_size\n",
    "                    imgs = os.listdir(source_path+'/'+ t[folder + (batch*batch_size)].split(';')[0]) # read all the images in the folder\n",
    "                    for idx,item in enumerate(img_idx): #  Iterate iver the frames/images of a folder to read them in\n",
    "                        image = imread(source_path+'/'+ t[folder + (batch*batch_size)].strip().split(';')[0]+'/'+imgs[item]).astype(np.float32)\n",
    "                        \n",
    "                        #crop the images and resize them. Note that the images are of 2 different shape \n",
    "                        #and the conv3D will throw error if the inputs in a batch have different shapes\n",
    "                        img_new = resize(image,(y,z))\n",
    "                    \n",
    "                        img_new = img_new/255 # normalising \n",
    "                    \n",
    "                        batch_data[folder,idx,:,:,0] = (img_new[:,:,0])#normalise and feed in the image\n",
    "                        batch_data[folder,idx,:,:,1] = (img_new[:,:,1])#normalise and feed in the image\n",
    "                        batch_data[folder,idx,:,:,2] = (img_new[:,:,2])#normalise and feed in the image\n",
    "                    \n",
    "                    batch_labels[folder, int(t[folder + (batch*batch_size)].strip().split(';')[2])] = 1\n",
    "                yield batch_data, batch_labels #you yield the batch_data and the batch_labels, remember what does yield do"
   ]
  },
  {
   "cell_type": "markdown",
   "id": "637db2a7",
   "metadata": {},
   "source": [
    "Note here that a video is represented above in the generator as (number of images, height, width, number of channels). Take this into consideration while creating the model architecture."
   ]
  },
  {
   "cell_type": "code",
   "execution_count": 7,
   "id": "13b81b12",
   "metadata": {},
   "outputs": [
    {
     "name": "stdout",
     "output_type": "stream",
     "text": [
      "# training sequences = 663\n",
      "# validation sequences = 100\n",
      "# epochs = 10\n"
     ]
    }
   ],
   "source": [
    "curr_dt_time = datetime.datetime.now()\n",
    "train_path = 'F:\\\\UPGRAD\\\\5. Deep Learning\\\\Module 6 - Gesture recognition assignment\\\\Project_data\\\\Project_data\\\\train'\n",
    "val_path = 'F:\\\\UPGRAD\\\\5. Deep Learning\\\\Module 6 - Gesture recognition assignment\\\\Project_data\\\\Project_data\\\\val'\n",
    "num_train_sequences = len(train_doc)\n",
    "print('# training sequences =', num_train_sequences)\n",
    "num_val_sequences = len(val_doc)\n",
    "print('# validation sequences =', num_val_sequences)\n",
    "num_epochs = 10 # choose the number of epochs\n",
    "print ('# epochs =', num_epochs)"
   ]
  },
  {
   "cell_type": "markdown",
   "id": "5c6b7563",
   "metadata": {},
   "source": [
    "### Model 2: 2D Conv + RNN (Transfer Learning using  Xception)"
   ]
  },
  {
   "cell_type": "markdown",
   "id": "16ce3209",
   "metadata": {},
   "source": [
    "It translates to “Extreme Inception”. Proposed by the creator of Keras, this is an extension of the inception model and like MobileNet it has replaced the normal modules with depth wise separable convolution modules. But the catch here is that the convolutions are at the extreme end of the spectrum. With a size of 91MB, it is one of the smallest weighted models in the list. It works with Tensorflow framework only. By many experimental studies, it was shown that Xception showed optimally better results when compared to InceptionV3."
   ]
  },
  {
   "cell_type": "code",
   "execution_count": 8,
   "id": "314f9957",
   "metadata": {},
   "outputs": [],
   "source": [
    "batch_size = 10\n",
    "num_epochs = 20\n",
    "x = 20 # # x is the number of images\n",
    "y = 120 # width of the image\n",
    "z = 120 # height of the image\n",
    "classes = 5 #5 gestures \n",
    "channel = 3 #RGB"
   ]
  },
  {
   "cell_type": "code",
   "execution_count": 9,
   "id": "a0c4305c",
   "metadata": {},
   "outputs": [],
   "source": [
    "from keras.models import Sequential, Model\n",
    "from keras.layers import Dense, GRU, Flatten, TimeDistributed, Flatten, BatchNormalization, Activation, Dropout, LSTM, Bidirectional\n",
    "\n",
    "from tensorflow.keras.applications.xception import decode_predictions\n",
    "\n",
    "from keras.layers.convolutional import Conv2D, MaxPooling2D\n",
    "from keras.layers.recurrent import LSTM\n",
    "from keras.callbacks import ModelCheckpoint, ReduceLROnPlateau\n",
    "from keras import optimizers"
   ]
  },
  {
   "cell_type": "code",
   "execution_count": 10,
   "id": "783e1202",
   "metadata": {},
   "outputs": [],
   "source": [
    "pretrained_mobilenet = tf.keras.applications.xception.Xception(include_top = False, weights = 'imagenet')"
   ]
  },
  {
   "cell_type": "code",
   "execution_count": 11,
   "id": "e4d62b0b",
   "metadata": {},
   "outputs": [],
   "source": [
    "model_6 = Sequential()\n",
    "model_6.add(TimeDistributed(pretrained_mobilenet,input_shape=(x,y,z,channel)))\n",
    "\n",
    "model_6.add(TimeDistributed(BatchNormalization()))\n",
    "model_6.add(TimeDistributed(MaxPooling2D((2, 2))))\n",
    "model_6.add(TimeDistributed(Flatten()))\n",
    "\n",
    "model_6.add(GRU(128))\n",
    "model_6.add(Dropout(0.25))\n",
    "\n",
    "model_6.add(Dense(128,activation='relu'))\n",
    "model_6.add(Dropout(0.25))\n",
    "\n",
    "model_6.add(Dense(5, activation='softmax'))"
   ]
  },
  {
   "cell_type": "code",
   "execution_count": 12,
   "id": "c4c4d430",
   "metadata": {},
   "outputs": [
    {
     "name": "stdout",
     "output_type": "stream",
     "text": [
      "Model: \"sequential\"\n",
      "_________________________________________________________________\n",
      "Layer (type)                 Output Shape              Param #   \n",
      "=================================================================\n",
      "time_distributed (TimeDistri (None, 20, 4, 4, 2048)    20861480  \n",
      "_________________________________________________________________\n",
      "time_distributed_1 (TimeDist (None, 20, 4, 4, 2048)    8192      \n",
      "_________________________________________________________________\n",
      "time_distributed_2 (TimeDist (None, 20, 2, 2, 2048)    0         \n",
      "_________________________________________________________________\n",
      "time_distributed_3 (TimeDist (None, 20, 8192)          0         \n",
      "_________________________________________________________________\n",
      "gru (GRU)                    (None, 128)               3195648   \n",
      "_________________________________________________________________\n",
      "dropout (Dropout)            (None, 128)               0         \n",
      "_________________________________________________________________\n",
      "dense (Dense)                (None, 128)               16512     \n",
      "_________________________________________________________________\n",
      "dropout_1 (Dropout)          (None, 128)               0         \n",
      "_________________________________________________________________\n",
      "dense_1 (Dense)              (None, 5)                 645       \n",
      "=================================================================\n",
      "Total params: 24,082,477\n",
      "Trainable params: 24,023,853\n",
      "Non-trainable params: 58,624\n",
      "_________________________________________________________________\n",
      "None\n"
     ]
    }
   ],
   "source": [
    "train_generator6 = generator(train_path, train_doc, batch_size)\n",
    "val_generator6 = generator(val_path, val_doc, batch_size)\n",
    "\n",
    "optimiser = optimizers.Adam(lr=0.0001) #write your optimizer\n",
    "model_6.compile(optimizer=optimiser, loss='categorical_crossentropy', metrics=['categorical_accuracy'])\n",
    "print(model_6.summary())"
   ]
  },
  {
   "cell_type": "code",
   "execution_count": 13,
   "id": "f7403ab1",
   "metadata": {},
   "outputs": [
    {
     "name": "stdout",
     "output_type": "stream",
     "text": [
      "WARNING:tensorflow:`period` argument is deprecated. Please use `save_freq` to specify the frequency in number of batches seen.\n"
     ]
    }
   ],
   "source": [
    "model_name = 'model_init' + '_' + str(curr_dt_time).replace(' ','').replace(':','_') + '/'\n",
    "    \n",
    "if not os.path.exists(model_name):\n",
    "    os.mkdir(model_name)\n",
    "        \n",
    "filepath = model_name + 'model-{epoch:05d}-{loss:.5f}-{categorical_accuracy:.5f}-{val_loss:.5f}-{val_categorical_accuracy:.5f}.h5'\n",
    "\n",
    "checkpoint = ModelCheckpoint(filepath, monitor='val_loss', verbose=1, save_best_only=False, save_weights_only=False, mode='auto', period=1)\n",
    "\n",
    "LR = ReduceLROnPlateau(monitor='val_loss', factor=0.5, patience=2, cooldown=1, verbose=1)  # write the REducelronplateau code here\n",
    "callbacks_list = [checkpoint, LR]"
   ]
  },
  {
   "cell_type": "code",
   "execution_count": 14,
   "id": "484fee7b",
   "metadata": {},
   "outputs": [],
   "source": [
    "if (num_train_sequences%batch_size) == 0:\n",
    "    steps_per_epoch = int(num_train_sequences/batch_size)\n",
    "else:\n",
    "    steps_per_epoch = (num_train_sequences//batch_size) + 1\n",
    "\n",
    "if (num_val_sequences%batch_size) == 0:\n",
    "    validation_steps = int(num_val_sequences/batch_size)\n",
    "else:\n",
    "    validation_steps = (num_val_sequences//batch_size) + 1"
   ]
  },
  {
   "cell_type": "code",
   "execution_count": 15,
   "id": "67b125bc",
   "metadata": {},
   "outputs": [],
   "source": [
    "def plot(history):\n",
    "    fig, axes = plt.subplots(nrows=1, ncols=2, figsize=(15,4))\n",
    "    axes[0].plot(history.history['loss'])   \n",
    "    axes[0].plot(history.history['val_loss'])\n",
    "    axes[0].legend(['loss','val_loss'])\n",
    "    plt.ylabel('Loss')\n",
    "    plt.xlabel('Epoch')\n",
    "    \n",
    "\n",
    "\n",
    "    axes[1].plot(history.history['categorical_accuracy'])   \n",
    "    axes[1].plot(history.history['val_categorical_accuracy'])\n",
    "    axes[1].legend(['categorical_accuracy','val_categorical_accuracy'])\n",
    "    plt.ylabel('Accuracy')\n",
    "    plt.xlabel('Epoch')\n",
    "    \n",
    "    plt.show()"
   ]
  },
  {
   "cell_type": "code",
   "execution_count": 16,
   "id": "c8a00a23",
   "metadata": {
    "scrolled": true
   },
   "outputs": [
    {
     "name": "stdout",
     "output_type": "stream",
     "text": [
      "Source path =  F:\\UPGRAD\\5. Deep Learning\\Module 6 - Gesture recognition assignment\\Project_data\\Project_data\\train ; batch size = 10\n"
     ]
    },
    {
     "name": "stderr",
     "output_type": "stream",
     "text": [
      "C:\\Users\\AKHIL\\anaconda3\\lib\\site-packages\\tensorflow\\python\\keras\\engine\\training.py:1844: UserWarning: `Model.fit_generator` is deprecated and will be removed in a future version. Please use `Model.fit`, which supports generators.\n",
      "  warnings.warn('`Model.fit_generator` is deprecated and '\n"
     ]
    },
    {
     "name": "stdout",
     "output_type": "stream",
     "text": [
      "Epoch 1/20\n",
      "65/67 [============================>.] - ETA: 52s - loss: 1.5715 - categorical_accuracy: 0.3133 Batch:  67 Index: 10\n",
      "67/67 [==============================] - ETA: 0s - loss: 1.5662 - categorical_accuracy: 0.3156 Source path =  F:\\UPGRAD\\5. Deep Learning\\Module 6 - Gesture recognition assignment\\Project_data\\Project_data\\val ; batch size = 10\n",
      "67/67 [==============================] - 1788s 27s/step - loss: 1.5636 - categorical_accuracy: 0.3168 - val_loss: 0.9966 - val_categorical_accuracy: 0.6600\n",
      "\n",
      "Epoch 00001: saving model to model_init_2021-06-2817_46_58.536765\\model-00001-1.39374-0.39216-0.99661-0.66000.h5\n",
      "Epoch 2/20\n",
      "67/67 [==============================] - 522s 8s/step - loss: 0.9266 - categorical_accuracy: 0.6431 - val_loss: 0.7185 - val_categorical_accuracy: 0.7600\n",
      "\n",
      "Epoch 00002: saving model to model_init_2021-06-2817_46_58.536765\\model-00002-0.86134-0.64677-0.71852-0.76000.h5\n",
      "Epoch 3/20\n",
      "67/67 [==============================] - 521s 8s/step - loss: 0.7852 - categorical_accuracy: 0.6999 - val_loss: 0.6221 - val_categorical_accuracy: 0.7800\n",
      "\n",
      "Epoch 00003: saving model to model_init_2021-06-2817_46_58.536765\\model-00003-0.76829-0.72139-0.62209-0.78000.h5\n",
      "Epoch 4/20\n",
      "67/67 [==============================] - 519s 8s/step - loss: 0.6530 - categorical_accuracy: 0.7506 - val_loss: 0.6116 - val_categorical_accuracy: 0.7900\n",
      "\n",
      "Epoch 00004: saving model to model_init_2021-06-2817_46_58.536765\\model-00004-0.68654-0.73134-0.61155-0.79000.h5\n",
      "Epoch 5/20\n",
      "67/67 [==============================] - 517s 8s/step - loss: 0.6174 - categorical_accuracy: 0.7977 - val_loss: 0.4886 - val_categorical_accuracy: 0.8000\n",
      "\n",
      "Epoch 00005: saving model to model_init_2021-06-2817_46_58.536765\\model-00005-0.65708-0.75622-0.48864-0.80000.h5\n",
      "Epoch 6/20\n",
      "67/67 [==============================] - 522s 8s/step - loss: 0.3273 - categorical_accuracy: 0.9020 - val_loss: 0.4998 - val_categorical_accuracy: 0.8300\n",
      "\n",
      "Epoch 00006: saving model to model_init_2021-06-2817_46_58.536765\\model-00006-0.37157-0.86070-0.49981-0.83000.h5\n",
      "Epoch 7/20\n",
      "67/67 [==============================] - 517s 8s/step - loss: 0.4488 - categorical_accuracy: 0.8908 - val_loss: 0.3792 - val_categorical_accuracy: 0.8300\n",
      "\n",
      "Epoch 00007: saving model to model_init_2021-06-2817_46_58.536765\\model-00007-0.35850-0.89055-0.37922-0.83000.h5\n",
      "Epoch 8/20\n",
      "67/67 [==============================] - 516s 8s/step - loss: 0.3179 - categorical_accuracy: 0.9134 - val_loss: 0.3702 - val_categorical_accuracy: 0.8900\n",
      "\n",
      "Epoch 00008: saving model to model_init_2021-06-2817_46_58.536765\\model-00008-0.40414-0.88557-0.37016-0.89000.h5\n",
      "Epoch 9/20\n",
      "67/67 [==============================] - 518s 8s/step - loss: 0.2981 - categorical_accuracy: 0.9082 - val_loss: 0.2593 - val_categorical_accuracy: 0.8900\n",
      "\n",
      "Epoch 00009: saving model to model_init_2021-06-2817_46_58.536765\\model-00009-0.26223-0.93035-0.25926-0.89000.h5\n",
      "Epoch 10/20\n",
      "67/67 [==============================] - 517s 8s/step - loss: 0.1623 - categorical_accuracy: 0.9644 - val_loss: 0.3958 - val_categorical_accuracy: 0.8600\n",
      "\n",
      "Epoch 00010: saving model to model_init_2021-06-2817_46_58.536765\\model-00010-0.17847-0.95522-0.39578-0.86000.h5\n",
      "Epoch 11/20\n",
      "67/67 [==============================] - 516s 8s/step - loss: 0.2819 - categorical_accuracy: 0.8936 - val_loss: 0.3268 - val_categorical_accuracy: 0.8900\n",
      "\n",
      "Epoch 00011: saving model to model_init_2021-06-2817_46_58.536765\\model-00011-0.20069-0.93532-0.32682-0.89000.h5\n",
      "\n",
      "Epoch 00011: ReduceLROnPlateau reducing learning rate to 4.999999873689376e-05.\n",
      "Epoch 12/20\n",
      "67/67 [==============================] - 520s 8s/step - loss: 0.2712 - categorical_accuracy: 0.8909 - val_loss: 0.2581 - val_categorical_accuracy: 0.9000\n",
      "\n",
      "Epoch 00012: saving model to model_init_2021-06-2817_46_58.536765\\model-00012-0.22331-0.91542-0.25807-0.90000.h5\n",
      "Epoch 13/20\n",
      "67/67 [==============================] - 529s 8s/step - loss: 0.1212 - categorical_accuracy: 0.9648 - val_loss: 0.2236 - val_categorical_accuracy: 0.8900\n",
      "\n",
      "Epoch 00013: saving model to model_init_2021-06-2817_46_58.536765\\model-00013-0.11797-0.97015-0.22364-0.89000.h5\n",
      "Epoch 14/20\n",
      "67/67 [==============================] - 560s 8s/step - loss: 0.1335 - categorical_accuracy: 0.9587 - val_loss: 0.3154 - val_categorical_accuracy: 0.8700\n",
      "\n",
      "Epoch 00014: saving model to model_init_2021-06-2817_46_58.536765\\model-00014-0.13974-0.96020-0.31543-0.87000.h5\n",
      "Epoch 15/20\n",
      "67/67 [==============================] - 556s 8s/step - loss: 0.0763 - categorical_accuracy: 0.9776 - val_loss: 0.2348 - val_categorical_accuracy: 0.9400\n",
      "\n",
      "Epoch 00015: saving model to model_init_2021-06-2817_46_58.536765\\model-00015-0.11459-0.96517-0.23484-0.94000.h5\n",
      "\n",
      "Epoch 00015: ReduceLROnPlateau reducing learning rate to 2.499999936844688e-05.\n",
      "Epoch 16/20\n",
      "67/67 [==============================] - 570s 9s/step - loss: 0.0773 - categorical_accuracy: 0.9888 - val_loss: 0.3211 - val_categorical_accuracy: 0.8800\n",
      "\n",
      "Epoch 00016: saving model to model_init_2021-06-2817_46_58.536765\\model-00016-0.07443-0.99005-0.32114-0.88000.h5\n",
      "Epoch 17/20\n",
      "67/67 [==============================] - 577s 9s/step - loss: 0.0522 - categorical_accuracy: 0.9896 - val_loss: 0.2931 - val_categorical_accuracy: 0.8900\n",
      "\n",
      "Epoch 00017: saving model to model_init_2021-06-2817_46_58.536765\\model-00017-0.04730-0.99005-0.29314-0.89000.h5\n",
      "\n",
      "Epoch 00017: ReduceLROnPlateau reducing learning rate to 1.249999968422344e-05.\n",
      "Epoch 18/20\n",
      "67/67 [==============================] - 583s 9s/step - loss: 0.0760 - categorical_accuracy: 0.9841 - val_loss: 0.2808 - val_categorical_accuracy: 0.9100\n",
      "\n",
      "Epoch 00018: saving model to model_init_2021-06-2817_46_58.536765\\model-00018-0.07172-0.98010-0.28079-0.91000.h5\n",
      "Epoch 19/20\n",
      "67/67 [==============================] - 574s 9s/step - loss: 0.0965 - categorical_accuracy: 0.9790 - val_loss: 0.1952 - val_categorical_accuracy: 0.9400\n",
      "\n",
      "Epoch 00019: saving model to model_init_2021-06-2817_46_58.536765\\model-00019-0.07198-0.98010-0.19515-0.94000.h5\n",
      "Epoch 20/20\n",
      "67/67 [==============================] - 569s 8s/step - loss: 0.1026 - categorical_accuracy: 0.9630 - val_loss: 0.2841 - val_categorical_accuracy: 0.9300\n",
      "\n",
      "Epoch 00020: saving model to model_init_2021-06-2817_46_58.536765\\model-00020-0.10112-0.96517-0.28409-0.93000.h5\n"
     ]
    }
   ],
   "source": [
    "history6 = model_6.fit_generator(train_generator6, steps_per_epoch=steps_per_epoch, epochs=num_epochs, verbose=1, \n",
    "                    callbacks=callbacks_list, validation_data=val_generator6, \n",
    "                    validation_steps=validation_steps, class_weight=None, workers=1, initial_epoch=0)"
   ]
  },
  {
   "cell_type": "code",
   "execution_count": 17,
   "id": "5da6087d",
   "metadata": {},
   "outputs": [
    {
     "data": {
      "image/png": "[encoded data removed]",
      "text/plain": [
       "<Figure size 1080x288 with 2 Axes>"
      ]
     },
     "metadata": {
      "needs_background": "light"
     },
     "output_type": "display_data"
    }
   ],
   "source": [
    "plot(history6)"
   ]
  },
  {
   "cell_type": "code",
   "execution_count": null,
   "id": "b72cf192",
   "metadata": {},
   "outputs": [],
   "source": []
  },
  {
   "cell_type": "code",
   "execution_count": null,
   "id": "12f985a2",
   "metadata": {},
   "outputs": [],
   "source": []
  }
 ],
 "metadata": {
  "kernelspec": {
   "display_name": "Python 3",
   "language": "python",
   "name": "python3"
  },
  "language_info": {
   "codemirror_mode": {
    "name": "ipython",
    "version": 3
   },
   "file_extension": ".py",
   "mimetype": "text/x-python",
   "name": "python",
   "nbconvert_exporter": "python",
   "pygments_lexer": "ipython3",
   "version": "3.8.3"
  }
 },
 "nbformat": 4,
 "nbformat_minor": 5
}
