{
 "cells": [
  {
   "cell_type": "markdown",
   "id": "63edd74e",
   "metadata": {},
   "source": [
    "# Gesture Recognition\n",
    "In this group project, you are going to build a 3D Conv model that will be able to predict the 5 gestures correctly. Please import the following libraries to get started. Once you have completed the code you can download the notebook for making a submission."
   ]
  },
  {
   "cell_type": "code",
   "execution_count": 1,
   "id": "61317c12",
   "metadata": {},
   "outputs": [],
   "source": [
    "import numpy as np\n",
    "import os\n",
    "from imageio import imread\n",
    "from skimage.transform import resize\n",
    "import datetime\n",
    "import os\n",
    "import matplotlib.pyplot as plt\n",
    "%matplotlib inline"
   ]
  },
  {
   "cell_type": "markdown",
   "id": "4401b97b",
   "metadata": {},
   "source": [
    "We set the random seed so that the results don't vary drastically."
   ]
  },
  {
   "cell_type": "code",
   "execution_count": 2,
   "id": "a4ae1518",
   "metadata": {},
   "outputs": [],
   "source": [
    "np.random.seed(30)\n",
    "import random as rn\n",
    "rn.seed(30)\n",
    "from tensorflow import keras\n",
    "import tensorflow as tf\n",
    "tf.random.set_seed(30)"
   ]
  },
  {
   "cell_type": "markdown",
   "id": "98146872",
   "metadata": {},
   "source": [
    "In this block, you read the folder names for training and validation. You also set the `batch_size` here. Note that you set the batch size in such a way that you are able to use the GPU in full capacity. You keep increasing the batch size until the machine throws an error."
   ]
  },
  {
   "cell_type": "markdown",
   "id": "3b0b2d01",
   "metadata": {},
   "source": [
    "**data path: /home/datasets/Project_data**"
   ]
  },
  {
   "cell_type": "code",
   "execution_count": 3,
   "id": "d0c6ccdc",
   "metadata": {},
   "outputs": [],
   "source": [
    "train_doc = np.random.permutation(open('F:\\\\UPGRAD\\\\5. Deep Learning\\\\Module 6 - Gesture recognition assignment\\\\Project_data\\\\Project_data\\\\train.csv').readlines())\n",
    "val_doc = np.random.permutation(open('F:\\\\UPGRAD\\\\5. Deep Learning\\\\Module 6 - Gesture recognition assignment\\\\Project_data\\\\Project_data\\\\val.csv').readlines())\n",
    "batch_size = 64 #experiment with the batch size"
   ]
  },
  {
   "cell_type": "markdown",
   "id": "28e23a0e",
   "metadata": {},
   "source": [
    "## Generator\n",
    "This is one of the most important part of the code. The overall structure of the generator has been given. In the generator, you are going to preprocess the images as you have images of 2 different dimensions as well as create a batch of video frames. You have to experiment with `img_idx`, `y`,`z` and normalization such that you get high accuracy."
   ]
  },
  {
   "cell_type": "code",
   "execution_count": 4,
   "id": "967edbd5",
   "metadata": {},
   "outputs": [],
   "source": [
    "img_idx=0"
   ]
  },
  {
   "cell_type": "code",
   "execution_count": 5,
   "id": "451edcf1",
   "metadata": {},
   "outputs": [],
   "source": [
    "x = 20 #umber of images selected in img_idx\n",
    "y = 120 #size of image \n",
    "z = 120 #size of image "
   ]
  },
  {
   "cell_type": "code",
   "execution_count": 6,
   "id": "f1843375",
   "metadata": {},
   "outputs": [],
   "source": [
    "def generator(source_path, folder_list, batch_size):\n",
    "    print( 'Source path = ', source_path, '; batch size =', batch_size)\n",
    "    # Range is selected as (5,x+5) so that 20 images from the center of 30 images are selected (5th image to 24th image)\n",
    "    img_idx = [x for x in range(5,x+5)] #create a list of image numbers you want to use for a particular video\n",
    "    while True:\n",
    "        t = np.random.permutation(folder_list)\n",
    "        num_batches = len(folder_list)//batch_size # calculate the number of batches\n",
    "        for batch in range(num_batches): # we iterate over the number of batches\n",
    "            batch_data = np.zeros((batch_size,x,y,z,3)) # x is the number of images you use for each video, (y,z) is the final size of the input images and 3 is the number of channels RGB\n",
    "            batch_labels = np.zeros((batch_size,5)) # batch_labels is the one hot representation of the output\n",
    "            for folder in range(batch_size): # iterate over the batch_size\n",
    "                imgs = os.listdir(source_path+'/'+ t[folder + (batch*batch_size)].split(';')[0]) # read all the images in the folder\n",
    "                for idx,item in enumerate(img_idx): #  Iterate iver the frames/images of a folder to read them in\n",
    "                    image = imread(source_path+'/'+ t[folder + (batch*batch_size)].strip().split(';')[0]+'/'+imgs[item]).astype(np.float32)\n",
    "                    \n",
    "                    #crop the images and resize them. Note that the images are of 2 different shape \n",
    "                    #and the conv3D will throw error if the inputs in a batch have different shapes\n",
    "                    img_new = resize(image,(y,z))\n",
    "                    \n",
    "                    img_new = img_new/255 # normalising \n",
    "                    \n",
    "                    batch_data[folder,idx,:,:,0] = (img_new[:,:,0])#normalise and feed in the image\n",
    "                    batch_data[folder,idx,:,:,1] = (img_new[:,:,1])#normalise and feed in the image\n",
    "                    batch_data[folder,idx,:,:,2] = (img_new[:,:,2])#normalise and feed in the image\n",
    "                    \n",
    "                batch_labels[folder, int(t[folder + (batch*batch_size)].strip().split(';')[2])] = 1\n",
    "            yield batch_data, batch_labels #you yield the batch_data and the batch_labels, remember what does yield do\n",
    "\n",
    "        \n",
    "        # write the code for the remaining data points which are left after full batches\n",
    "        if (len(folder_list) != batch_size*num_batches):\n",
    "            print(\"Batch: \",num_batches+1,\"Index:\", batch_size)\n",
    "            batch_size = len(folder_list) - (batch_size*num_batches)\n",
    "            # new batch size is the rest of the folders present after dividing the batch\n",
    "            for batch in range(num_batches): # we iterate over the number of batches\n",
    "                batch_data = np.zeros((batch_size,x,y,z,3)) # x is the number of images you use for each video, (y,z) is the final size of the input images and 3 is the number of channels RGB\n",
    "                batch_labels = np.zeros((batch_size,5)) # batch_labels is the one hot representation of the output\n",
    "                for folder in range(batch_size): # iterate over the batch_size\n",
    "                    imgs = os.listdir(source_path+'/'+ t[folder + (batch*batch_size)].split(';')[0]) # read all the images in the folder\n",
    "                    for idx,item in enumerate(img_idx): #  Iterate iver the frames/images of a folder to read them in\n",
    "                        image = imread(source_path+'/'+ t[folder + (batch*batch_size)].strip().split(';')[0]+'/'+imgs[item]).astype(np.float32)\n",
    "                        \n",
    "                        #crop the images and resize them. Note that the images are of 2 different shape \n",
    "                        #and the conv3D will throw error if the inputs in a batch have different shapes\n",
    "                        img_new = resize(image,(y,z))\n",
    "                    \n",
    "                        img_new = img_new/255 # normalising \n",
    "                    \n",
    "                        batch_data[folder,idx,:,:,0] = (img_new[:,:,0])#normalise and feed in the image\n",
    "                        batch_data[folder,idx,:,:,1] = (img_new[:,:,1])#normalise and feed in the image\n",
    "                        batch_data[folder,idx,:,:,2] = (img_new[:,:,2])#normalise and feed in the image\n",
    "                    \n",
    "                    batch_labels[folder, int(t[folder + (batch*batch_size)].strip().split(';')[2])] = 1\n",
    "                yield batch_data, batch_labels #you yield the batch_data and the batch_labels, remember what does yield do"
   ]
  },
  {
   "cell_type": "markdown",
   "id": "637db2a7",
   "metadata": {},
   "source": [
    "Note here that a video is represented above in the generator as (number of images, height, width, number of channels). Take this into consideration while creating the model architecture."
   ]
  },
  {
   "cell_type": "code",
   "execution_count": 7,
   "id": "13b81b12",
   "metadata": {},
   "outputs": [
    {
     "name": "stdout",
     "output_type": "stream",
     "text": [
      "# training sequences = 663\n",
      "# validation sequences = 100\n",
      "# epochs = 10\n"
     ]
    }
   ],
   "source": [
    "curr_dt_time = datetime.datetime.now()\n",
    "train_path = 'F:\\\\UPGRAD\\\\5. Deep Learning\\\\Module 6 - Gesture recognition assignment\\\\Project_data\\\\Project_data\\\\train'\n",
    "val_path = 'F:\\\\UPGRAD\\\\5. Deep Learning\\\\Module 6 - Gesture recognition assignment\\\\Project_data\\\\Project_data\\\\val'\n",
    "num_train_sequences = len(train_doc)\n",
    "print('# training sequences =', num_train_sequences)\n",
    "num_val_sequences = len(val_doc)\n",
    "print('# validation sequences =', num_val_sequences)\n",
    "num_epochs = 10 # choose the number of epochs\n",
    "print ('# epochs =', num_epochs)"
   ]
  },
  {
   "cell_type": "markdown",
   "id": "5c6b7563",
   "metadata": {},
   "source": [
    "### Model 2: 2D Conv + RNN (Transfer Learning using MobileNet)"
   ]
  },
  {
   "cell_type": "code",
   "execution_count": 8,
   "id": "314f9957",
   "metadata": {},
   "outputs": [
    {
     "name": "stdout",
     "output_type": "stream",
     "text": [
      "Model: \"sequential\"\n",
      "_________________________________________________________________\n",
      "Layer (type)                 Output Shape              Param #   \n",
      "=================================================================\n",
      "time_distributed (TimeDistri (None, 20, 60, 60, 32)    4736      \n",
      "_________________________________________________________________\n",
      "time_distributed_1 (TimeDist (None, 20, 30, 30, 32)    0         \n",
      "_________________________________________________________________\n",
      "time_distributed_2 (TimeDist (None, 20, 30, 30, 64)    18496     \n",
      "_________________________________________________________________\n",
      "time_distributed_3 (TimeDist (None, 20, 15, 15, 64)    0         \n",
      "_________________________________________________________________\n",
      "time_distributed_4 (TimeDist (None, 20, 15, 15, 128)   73856     \n",
      "_________________________________________________________________\n",
      "time_distributed_5 (TimeDist (None, 20, 7, 7, 128)     0         \n",
      "_________________________________________________________________\n",
      "time_distributed_6 (TimeDist (None, 20, 7, 7, 256)     295168    \n",
      "_________________________________________________________________\n",
      "time_distributed_7 (TimeDist (None, 20, 3, 3, 256)     0         \n",
      "_________________________________________________________________\n",
      "time_distributed_8 (TimeDist (None, 20, 3, 3, 512)     1180160   \n",
      "_________________________________________________________________\n",
      "time_distributed_9 (TimeDist (None, 20, 1, 1, 512)     0         \n",
      "_________________________________________________________________\n",
      "time_distributed_10 (TimeDis (None, 20, 512)           0         \n",
      "_________________________________________________________________\n",
      "dense (Dense)                (None, 20, 360)           184680    \n",
      "_________________________________________________________________\n",
      "dropout (Dropout)            (None, 20, 360)           0         \n",
      "_________________________________________________________________\n",
      "lstm (LSTM)                  (None, 512)               1787904   \n",
      "_________________________________________________________________\n",
      "dense_1 (Dense)              (None, 5)                 2565      \n",
      "=================================================================\n",
      "Total params: 3,547,565\n",
      "Trainable params: 3,547,565\n",
      "Non-trainable params: 0\n",
      "_________________________________________________________________\n"
     ]
    }
   ],
   "source": [
    "from keras.models import Sequential, Model\n",
    "from keras.layers import Conv2D,MaxPooling2D\n",
    "from keras.callbacks import ModelCheckpoint, ReduceLROnPlateau\n",
    "from keras.layers import Dense, GRU, Flatten, TimeDistributed, Flatten, BatchNormalization, Activation, Dropout, LSTM, Bidirectional\n",
    "\n",
    "\n",
    "Input_shape_1 = (20, 120, 120, 3)\n",
    "model = Sequential()\n",
    "model.add(TimeDistributed(Conv2D(32, (7, 7), strides=(2, 2), activation='relu', padding='same'), input_shape=Input_shape_1))\n",
    "#model.add(TimeDistributed(Conv2D(32, (3,3), kernel_initializer=\"he_normal\", activation='relu')))\n",
    "model.add(TimeDistributed(MaxPooling2D((2, 2), strides=(2, 2))))\n",
    " \n",
    "model.add(TimeDistributed(Conv2D(64, (3,3), padding='same', activation='relu')))\n",
    "#model.add(TimeDistributed(Conv2D(64, (3,3), padding='same', activation='relu')))\n",
    "model.add(TimeDistributed(MaxPooling2D((2, 2), strides=(2, 2))))\n",
    " \n",
    "model.add(TimeDistributed(Conv2D(128, (3,3), padding='same', activation='relu')))\n",
    "#model.add(TimeDistributed(Conv2D(128, (3,3), padding='same', activation='relu')))\n",
    "model.add(TimeDistributed(MaxPooling2D((2, 2), strides=(2, 2))))\n",
    " \n",
    "model.add(TimeDistributed(Conv2D(256, (3,3), padding='same', activation='relu')))\n",
    "#model.add(TimeDistributed(Conv2D(256, (3,3), padding='same', activation='relu')))\n",
    "model.add(TimeDistributed(MaxPooling2D((2, 2), strides=(2, 2))))\n",
    " \n",
    "model.add(TimeDistributed(Conv2D(512, (3,3), padding='same', activation='relu')))\n",
    "#model.add(TimeDistributed(Conv2D(512, (3,3), padding='same', activation='relu')))\n",
    "model.add(TimeDistributed(MaxPooling2D((2, 2), strides=(2, 2))))\n",
    " \n",
    "model.add(TimeDistributed(Flatten()))\n",
    "\n",
    "model.add(Dense(360, activation='relu'))\n",
    "model.add(Dropout(0.2))\n",
    " \n",
    "#model.add(Dropout(0.5))\n",
    "model.add(LSTM(512, return_sequences=False, dropout=0.5))\n",
    "model.add(Dense(5, activation='softmax'))\n",
    "model.summary()"
   ]
  },
  {
   "cell_type": "code",
   "execution_count": 9,
   "id": "2865d7b9",
   "metadata": {},
   "outputs": [
    {
     "name": "stdout",
     "output_type": "stream",
     "text": [
      "Model: \"sequential\"\n",
      "_________________________________________________________________\n",
      "Layer (type)                 Output Shape              Param #   \n",
      "=================================================================\n",
      "time_distributed (TimeDistri (None, 20, 60, 60, 32)    4736      \n",
      "_________________________________________________________________\n",
      "time_distributed_1 (TimeDist (None, 20, 30, 30, 32)    0         \n",
      "_________________________________________________________________\n",
      "time_distributed_2 (TimeDist (None, 20, 30, 30, 64)    18496     \n",
      "_________________________________________________________________\n",
      "time_distributed_3 (TimeDist (None, 20, 15, 15, 64)    0         \n",
      "_________________________________________________________________\n",
      "time_distributed_4 (TimeDist (None, 20, 15, 15, 128)   73856     \n",
      "_________________________________________________________________\n",
      "time_distributed_5 (TimeDist (None, 20, 7, 7, 128)     0         \n",
      "_________________________________________________________________\n",
      "time_distributed_6 (TimeDist (None, 20, 7, 7, 256)     295168    \n",
      "_________________________________________________________________\n",
      "time_distributed_7 (TimeDist (None, 20, 3, 3, 256)     0         \n",
      "_________________________________________________________________\n",
      "time_distributed_8 (TimeDist (None, 20, 3, 3, 512)     1180160   \n",
      "_________________________________________________________________\n",
      "time_distributed_9 (TimeDist (None, 20, 1, 1, 512)     0         \n",
      "_________________________________________________________________\n",
      "time_distributed_10 (TimeDis (None, 20, 512)           0         \n",
      "_________________________________________________________________\n",
      "dense (Dense)                (None, 20, 360)           184680    \n",
      "_________________________________________________________________\n",
      "dropout (Dropout)            (None, 20, 360)           0         \n",
      "_________________________________________________________________\n",
      "lstm (LSTM)                  (None, 512)               1787904   \n",
      "_________________________________________________________________\n",
      "dense_1 (Dense)              (None, 5)                 2565      \n",
      "=================================================================\n",
      "Total params: 3,547,565\n",
      "Trainable params: 3,547,565\n",
      "Non-trainable params: 0\n",
      "_________________________________________________________________\n",
      "None\n"
     ]
    }
   ],
   "source": [
    "#optimiser = Keras.optimizers.Adam(lr=0.001)\n",
    "model.compile(optimizer='sgd', loss='categorical_crossentropy', metrics=['categorical_accuracy'])\n",
    "print (model.summary())"
   ]
  },
  {
   "cell_type": "code",
   "execution_count": 10,
   "id": "b88e56c7",
   "metadata": {},
   "outputs": [],
   "source": [
    "train_generator = generator(train_path, train_doc, batch_size)\n",
    "val_generator = generator(val_path, val_doc, batch_size)"
   ]
  },
  {
   "cell_type": "code",
   "execution_count": 11,
   "id": "3784d6a3",
   "metadata": {},
   "outputs": [
    {
     "name": "stdout",
     "output_type": "stream",
     "text": [
      "WARNING:tensorflow:`period` argument is deprecated. Please use `save_freq` to specify the frequency in number of batches seen.\n",
      "WARNING:tensorflow:`epsilon` argument is deprecated and will be removed, use `min_delta` instead.\n"
     ]
    }
   ],
   "source": [
    "model_name = 'Gesture_recog' + '_' + str(curr_dt_time).replace(' ','').replace(':','_') + '/'\n",
    "    \n",
    "if not os.path.exists(model_name):\n",
    "    os.mkdir(model_name)\n",
    "        \n",
    "filepath = model_name + 'model-{epoch:05d}-{loss:.5f}-{categorical_accuracy:.5f}-{val_loss:.5f}-{val_categorical_accuracy:.5f}.h5'\n",
    "\n",
    "checkpoint = ModelCheckpoint(filepath, monitor='val_loss', verbose=1, save_best_only=False, save_weights_only=False, mode='auto', period=1)\n",
    "\n",
    "LR = ReduceLROnPlateau(monitor = \"val_loss\", factor = 0.1, patience = 10,\n",
    "  verbose = 0, mode = \"auto\", epsilon = 1e-04, cooldown = 0,\n",
    "  min_lr = 0)\n",
    "callbacks_list = [checkpoint, LR]"
   ]
  },
  {
   "cell_type": "code",
   "execution_count": 12,
   "id": "b0464856",
   "metadata": {},
   "outputs": [],
   "source": [
    "if (num_train_sequences%batch_size) == 0:\n",
    "    steps_per_epoch = int(num_train_sequences/batch_size)\n",
    "else:\n",
    "    steps_per_epoch = (num_train_sequences//batch_size) + 1\n",
    "\n",
    "if (num_val_sequences%batch_size) == 0:\n",
    "    validation_steps = int(num_val_sequences/batch_size)\n",
    "else:\n",
    "    validation_steps = (num_val_sequences//batch_size) + 1"
   ]
  },
  {
   "cell_type": "code",
   "execution_count": 13,
   "id": "a36c3887",
   "metadata": {},
   "outputs": [
    {
     "name": "stdout",
     "output_type": "stream",
     "text": [
      "Source path =  F:\\UPGRAD\\5. Deep Learning\\Module 6 - Gesture recognition assignment\\Project_data\\Project_data\\train ; batch size = 64\n"
     ]
    },
    {
     "name": "stderr",
     "output_type": "stream",
     "text": [
      "C:\\Users\\AKHIL\\anaconda3\\lib\\site-packages\\tensorflow\\python\\keras\\engine\\training.py:1844: UserWarning: `Model.fit_generator` is deprecated and will be removed in a future version. Please use `Model.fit`, which supports generators.\n",
      "  warnings.warn('`Model.fit_generator` is deprecated and '\n"
     ]
    },
    {
     "name": "stdout",
     "output_type": "stream",
     "text": [
      "Epoch 1/10\n",
      " 9/11 [=======================>......] - ETA: 22s - loss: 1.6097 - categorical_accuracy: 0.1736Batch:  11 Index: 64\n",
      "11/11 [==============================] - ETA: 0s - loss: 1.6096 - categorical_accuracy: 0.1768 Source path =  F:\\UPGRAD\\5. Deep Learning\\Module 6 - Gesture recognition assignment\\Project_data\\Project_data\\val ; batch size = 64\n",
      "Batch:  2 Index: 64\n",
      "11/11 [==============================] - 130s 12s/step - loss: 1.6096 - categorical_accuracy: 0.1780 - val_loss: 1.6086 - val_categorical_accuracy: 0.2200\n",
      "\n",
      "Epoch 00001: saving model to Gesture_recog_2021-06-2413_56_04.001960\\model-00001-1.60940-0.19155-1.60859-0.22000.h5\n",
      "Epoch 2/10\n",
      "11/11 [==============================] - ETA: 0s - loss: 1.6087 - categorical_accuracy: 0.1925Batch:  3 Index: 36\n",
      "11/11 [==============================] - 55s 5s/step - loss: 1.6086 - categorical_accuracy: 0.1936 - val_loss: 1.6079 - val_categorical_accuracy: 0.2188\n",
      "\n",
      "Epoch 00002: saving model to Gesture_recog_2021-06-2413_56_04.001960\\model-00002-1.60789-0.20553-1.60792-0.21875.h5\n",
      "Epoch 3/10\n",
      "11/11 [==============================] - 53s 5s/step - loss: 1.6113 - categorical_accuracy: 0.1652 - val_loss: 1.6004 - val_categorical_accuracy: 0.2857\n",
      "\n",
      "Epoch 00003: saving model to Gesture_recog_2021-06-2413_56_04.001960\\model-00003-1.60806-0.22530-1.60042-0.28571.h5\n",
      "Epoch 4/10\n",
      "11/11 [==============================] - ETA: 0s - loss: 1.6143 - categorical_accuracy: 0.1369Batch:  4 Index: 28\n",
      "11/11 [==============================] - 47s 5s/step - loss: 1.6140 - categorical_accuracy: 0.1367 - val_loss: 1.6003 - val_categorical_accuracy: 0.2188\n",
      "\n",
      "Epoch 00004: saving model to Gesture_recog_2021-06-2413_56_04.001960\\model-00004-1.61143-0.13439-1.60029-0.21875.h5\n",
      "Epoch 5/10\n",
      " 3/11 [=======>......................] - ETA: 28s - loss: 1.6097 - categorical_accuracy: 0.1449Batch:  29 Index: 23\n",
      "11/11 [==============================] - 42s 4s/step - loss: 1.6083 - categorical_accuracy: 0.1674 - val_loss: 1.6093 - val_categorical_accuracy: 0.1875\n",
      "\n",
      "Epoch 00005: saving model to Gesture_recog_2021-06-2413_56_04.001960\\model-00005-1.60881-0.17778-1.60932-0.18750.h5\n",
      "Epoch 6/10\n",
      "11/11 [==============================] - 41s 4s/step - loss: 1.6071 - categorical_accuracy: 0.2403 - val_loss: 1.5970 - val_categorical_accuracy: 0.2812\n",
      "\n",
      "Epoch 00006: saving model to Gesture_recog_2021-06-2413_56_04.001960\\model-00006-1.60319-0.26794-1.59703-0.28125.h5\n",
      "Epoch 7/10\n",
      "11/11 [==============================] - ETA: 0s - loss: 1.6137 - categorical_accuracy: 0.1356Batch:  7 Index: 16\n",
      "11/11 [==============================] - 36s 3s/step - loss: 1.6134 - categorical_accuracy: 0.1363 - val_loss: 1.6245 - val_categorical_accuracy: 0.1250\n",
      "\n",
      "Epoch 00007: saving model to Gesture_recog_2021-06-2413_56_04.001960\\model-00007-1.61058-0.14354-1.62446-0.12500.h5\n",
      "Epoch 8/10\n",
      "11/11 [==============================] - 36s 3s/step - loss: 1.6029 - categorical_accuracy: 0.2367 - val_loss: 1.6105 - val_categorical_accuracy: 0.2500\n",
      "\n",
      "Epoch 00008: saving model to Gesture_recog_2021-06-2413_56_04.001960\\model-00008-1.60187-0.22010-1.61048-0.25000.h5\n",
      "Epoch 9/10\n",
      "11/11 [==============================] - 37s 3s/step - loss: 1.6054 - categorical_accuracy: 0.2159 - val_loss: 1.6183 - val_categorical_accuracy: 0.1250\n",
      "\n",
      "Epoch 00009: saving model to Gesture_recog_2021-06-2413_56_04.001960\\model-00009-1.60510-0.20096-1.61830-0.12500.h5\n",
      "Epoch 10/10\n",
      "10/11 [==========================>...] - ETA: 3s - loss: 1.6074 - categorical_accuracy: 0.1939Batch:  35 Index: 19\n",
      "11/11 [==============================] - 35s 3s/step - loss: 1.6077 - categorical_accuracy: 0.1974 - val_loss: 1.6365 - val_categorical_accuracy: 0.0000e+00\n",
      "\n",
      "Epoch 00010: saving model to Gesture_recog_2021-06-2413_56_04.001960\\model-00010-1.60963-0.21531-1.63654-0.00000.h5\n"
     ]
    }
   ],
   "source": [
    "history = model.fit_generator(train_generator, steps_per_epoch=steps_per_epoch, epochs=num_epochs, verbose=1, \n",
    "                    callbacks=callbacks_list, validation_data=val_generator, \n",
    "                    validation_steps=validation_steps, class_weight=None, workers=1, initial_epoch=0)"
   ]
  },
  {
   "cell_type": "code",
   "execution_count": 14,
   "id": "215db5be",
   "metadata": {},
   "outputs": [],
   "source": [
    "def plot(history):\n",
    "    fig, axes = plt.subplots(nrows=1, ncols=2, figsize=(15,4))\n",
    "    axes[0].plot(history.history['loss'])   \n",
    "    axes[0].plot(history.history['val_loss'])\n",
    "    axes[0].legend(['loss','val_loss'])\n",
    "    plt.ylabel('Loss')\n",
    "    plt.xlabel('Epoch')\n",
    "    \n",
    "\n",
    "\n",
    "    axes[1].plot(history.history['categorical_accuracy'])   \n",
    "    axes[1].plot(history.history['val_categorical_accuracy'])\n",
    "    axes[1].legend(['categorical_accuracy','val_categorical_accuracy'])\n",
    "    plt.ylabel('Accuracy')\n",
    "    plt.xlabel('Epoch')\n",
    "    \n",
    "    plt.show()"
   ]
  },
  {
   "cell_type": "code",
   "execution_count": 15,
   "id": "5fc79173",
   "metadata": {},
   "outputs": [
    {
     "data": {
      "image/png": "[encoded data removed]",
      "text/plain": [
       "<Figure size 1080x288 with 2 Axes>"
      ]
     },
     "metadata": {
      "needs_background": "light"
     },
     "output_type": "display_data"
    }
   ],
   "source": [
    "plot(history)"
   ]
  },
  {
   "cell_type": "code",
   "execution_count": null,
   "id": "f92a4bff",
   "metadata": {},
   "outputs": [],
   "source": []
  },
  {
   "cell_type": "code",
   "execution_count": null,
   "id": "6e78572a",
   "metadata": {},
   "outputs": [],
   "source": []
  },
  {
   "cell_type": "code",
   "execution_count": null,
   "id": "38256fc4",
   "metadata": {},
   "outputs": [],
   "source": []
  },
  {
   "cell_type": "code",
   "execution_count": null,
   "id": "37dc96dd",
   "metadata": {},
   "outputs": [],
   "source": []
  },
  {
   "cell_type": "code",
   "execution_count": null,
   "id": "a08dedcd",
   "metadata": {},
   "outputs": [],
   "source": []
  },
  {
   "cell_type": "code",
   "execution_count": null,
   "id": "dcfa4e71",
   "metadata": {},
   "outputs": [],
   "source": []
  },
  {
   "cell_type": "code",
   "execution_count": null,
   "id": "2c2228c7",
   "metadata": {},
   "outputs": [],
   "source": []
  }
 ],
 "metadata": {
  "kernelspec": {
   "display_name": "Python 3",
   "language": "python",
   "name": "python3"
  },
  "language_info": {
   "codemirror_mode": {
    "name": "ipython",
    "version": 3
   },
   "file_extension": ".py",
   "mimetype": "text/x-python",
   "name": "python",
   "nbconvert_exporter": "python",
   "pygments_lexer": "ipython3",
   "version": "3.8.3"
  }
 },
 "nbformat": 4,
 "nbformat_minor": 5
}
