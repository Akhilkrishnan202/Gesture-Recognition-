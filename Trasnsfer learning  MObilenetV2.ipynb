{
 "cells": [
  {
   "cell_type": "markdown",
   "id": "63edd74e",
   "metadata": {},
   "source": [
    "# Gesture Recognition\n",
    "In this group project, you are going to build a 3D Conv model that will be able to predict the 5 gestures correctly. Please import the following libraries to get started. Once you have completed the code you can download the notebook for making a submission."
   ]
  },
  {
   "cell_type": "code",
   "execution_count": 1,
   "id": "61317c12",
   "metadata": {},
   "outputs": [],
   "source": [
    "import numpy as np\n",
    "import os\n",
    "from imageio import imread\n",
    "from skimage.transform import resize\n",
    "import datetime\n",
    "import os\n",
    "import matplotlib.pyplot as plt\n",
    "%matplotlib inline"
   ]
  },
  {
   "cell_type": "markdown",
   "id": "4401b97b",
   "metadata": {},
   "source": [
    "We set the random seed so that the results don't vary drastically."
   ]
  },
  {
   "cell_type": "code",
   "execution_count": 2,
   "id": "a4ae1518",
   "metadata": {},
   "outputs": [],
   "source": [
    "np.random.seed(30)\n",
    "import random as rn\n",
    "rn.seed(30)\n",
    "from tensorflow import keras\n",
    "import tensorflow as tf\n",
    "tf.random.set_seed(30)"
   ]
  },
  {
   "cell_type": "markdown",
   "id": "98146872",
   "metadata": {},
   "source": [
    "In this block, you read the folder names for training and validation. You also set the `batch_size` here. Note that you set the batch size in such a way that you are able to use the GPU in full capacity. You keep increasing the batch size until the machine throws an error."
   ]
  },
  {
   "cell_type": "markdown",
   "id": "3b0b2d01",
   "metadata": {},
   "source": [
    "**data path: /home/datasets/Project_data**"
   ]
  },
  {
   "cell_type": "code",
   "execution_count": 3,
   "id": "d0c6ccdc",
   "metadata": {},
   "outputs": [],
   "source": [
    "train_doc = np.random.permutation(open('F:\\\\UPGRAD\\\\5. Deep Learning\\\\Module 6 - Gesture recognition assignment\\\\Project_data\\\\Project_data\\\\train.csv').readlines())\n",
    "val_doc = np.random.permutation(open('F:\\\\UPGRAD\\\\5. Deep Learning\\\\Module 6 - Gesture recognition assignment\\\\Project_data\\\\Project_data\\\\val.csv').readlines())\n",
    "batch_size = 64 #experiment with the batch size"
   ]
  },
  {
   "cell_type": "markdown",
   "id": "28e23a0e",
   "metadata": {},
   "source": [
    "## Generator\n",
    "This is one of the most important part of the code. The overall structure of the generator has been given. In the generator, you are going to preprocess the images as you have images of 2 different dimensions as well as create a batch of video frames. You have to experiment with `img_idx`, `y`,`z` and normalization such that you get high accuracy."
   ]
  },
  {
   "cell_type": "code",
   "execution_count": 4,
   "id": "967edbd5",
   "metadata": {},
   "outputs": [],
   "source": [
    "img_idx=0"
   ]
  },
  {
   "cell_type": "code",
   "execution_count": 5,
   "id": "451edcf1",
   "metadata": {},
   "outputs": [],
   "source": [
    "x = 20 #umber of images selected in img_idx\n",
    "y = 120 #size of image \n",
    "z = 120 #size of image "
   ]
  },
  {
   "cell_type": "code",
   "execution_count": 6,
   "id": "f1843375",
   "metadata": {},
   "outputs": [],
   "source": [
    "def generator(source_path, folder_list, batch_size):\n",
    "    print( 'Source path = ', source_path, '; batch size =', batch_size)\n",
    "    # Range is selected as (5,x+5) so that 20 images from the center of 30 images are selected (5th image to 24th image)\n",
    "    img_idx = [x for x in range(5,x+5)] #create a list of image numbers you want to use for a particular video\n",
    "    while True:\n",
    "        t = np.random.permutation(folder_list)\n",
    "        num_batches = len(folder_list)//batch_size # calculate the number of batches\n",
    "        for batch in range(num_batches): # we iterate over the number of batches\n",
    "            batch_data = np.zeros((batch_size,x,y,z,3)) # x is the number of images you use for each video, (y,z) is the final size of the input images and 3 is the number of channels RGB\n",
    "            batch_labels = np.zeros((batch_size,5)) # batch_labels is the one hot representation of the output\n",
    "            for folder in range(batch_size): # iterate over the batch_size\n",
    "                imgs = os.listdir(source_path+'/'+ t[folder + (batch*batch_size)].split(';')[0]) # read all the images in the folder\n",
    "                for idx,item in enumerate(img_idx): #  Iterate iver the frames/images of a folder to read them in\n",
    "                    image = imread(source_path+'/'+ t[folder + (batch*batch_size)].strip().split(';')[0]+'/'+imgs[item]).astype(np.float32)\n",
    "                    \n",
    "                    #crop the images and resize them. Note that the images are of 2 different shape \n",
    "                    #and the conv3D will throw error if the inputs in a batch have different shapes\n",
    "                    img_new = resize(image,(y,z))\n",
    "                    \n",
    "                    img_new = img_new/255 # normalising \n",
    "                    \n",
    "                    batch_data[folder,idx,:,:,0] = (img_new[:,:,0])#normalise and feed in the image\n",
    "                    batch_data[folder,idx,:,:,1] = (img_new[:,:,1])#normalise and feed in the image\n",
    "                    batch_data[folder,idx,:,:,2] = (img_new[:,:,2])#normalise and feed in the image\n",
    "                    \n",
    "                batch_labels[folder, int(t[folder + (batch*batch_size)].strip().split(';')[2])] = 1\n",
    "            yield batch_data, batch_labels #you yield the batch_data and the batch_labels, remember what does yield do\n",
    "\n",
    "        \n",
    "        # write the code for the remaining data points which are left after full batches\n",
    "        if (len(folder_list) != batch_size*num_batches):\n",
    "            print(\"Batch: \",num_batches+1,\"Index:\", batch_size)\n",
    "            batch_size = len(folder_list) - (batch_size*num_batches)\n",
    "            # new batch size is the rest of the folders present after dividing the batch\n",
    "            for batch in range(num_batches): # we iterate over the number of batches\n",
    "                batch_data = np.zeros((batch_size,x,y,z,3)) # x is the number of images you use for each video, (y,z) is the final size of the input images and 3 is the number of channels RGB\n",
    "                batch_labels = np.zeros((batch_size,5)) # batch_labels is the one hot representation of the output\n",
    "                for folder in range(batch_size): # iterate over the batch_size\n",
    "                    imgs = os.listdir(source_path+'/'+ t[folder + (batch*batch_size)].split(';')[0]) # read all the images in the folder\n",
    "                    for idx,item in enumerate(img_idx): #  Iterate iver the frames/images of a folder to read them in\n",
    "                        image = imread(source_path+'/'+ t[folder + (batch*batch_size)].strip().split(';')[0]+'/'+imgs[item]).astype(np.float32)\n",
    "                        \n",
    "                        #crop the images and resize them. Note that the images are of 2 different shape \n",
    "                        #and the conv3D will throw error if the inputs in a batch have different shapes\n",
    "                        img_new = resize(image,(y,z))\n",
    "                    \n",
    "                        img_new = img_new/255 # normalising \n",
    "                    \n",
    "                        batch_data[folder,idx,:,:,0] = (img_new[:,:,0])#normalise and feed in the image\n",
    "                        batch_data[folder,idx,:,:,1] = (img_new[:,:,1])#normalise and feed in the image\n",
    "                        batch_data[folder,idx,:,:,2] = (img_new[:,:,2])#normalise and feed in the image\n",
    "                    \n",
    "                    batch_labels[folder, int(t[folder + (batch*batch_size)].strip().split(';')[2])] = 1\n",
    "                yield batch_data, batch_labels #you yield the batch_data and the batch_labels, remember what does yield do"
   ]
  },
  {
   "cell_type": "markdown",
   "id": "637db2a7",
   "metadata": {},
   "source": [
    "Note here that a video is represented above in the generator as (number of images, height, width, number of channels). Take this into consideration while creating the model architecture."
   ]
  },
  {
   "cell_type": "code",
   "execution_count": 7,
   "id": "13b81b12",
   "metadata": {},
   "outputs": [
    {
     "name": "stdout",
     "output_type": "stream",
     "text": [
      "# training sequences = 663\n",
      "# validation sequences = 100\n",
      "# epochs = 20\n"
     ]
    }
   ],
   "source": [
    "curr_dt_time = datetime.datetime.now()\n",
    "train_path = 'F:\\\\UPGRAD\\\\5. Deep Learning\\\\Module 6 - Gesture recognition assignment\\\\Project_data\\\\Project_data\\\\train'\n",
    "val_path = 'F:\\\\UPGRAD\\\\5. Deep Learning\\\\Module 6 - Gesture recognition assignment\\\\Project_data\\\\Project_data\\\\val'\n",
    "num_train_sequences = len(train_doc)\n",
    "print('# training sequences =', num_train_sequences)\n",
    "num_val_sequences = len(val_doc)\n",
    "print('# validation sequences =', num_val_sequences)\n",
    "num_epochs = 20 # choose the number of epochs\n",
    "print ('# epochs =', num_epochs)"
   ]
  },
  {
   "cell_type": "markdown",
   "id": "5c6b7563",
   "metadata": {},
   "source": [
    "### Model 2: 2D Conv + RNN (Transfer Learning using MobileNet)"
   ]
  },
  {
   "cell_type": "code",
   "execution_count": 8,
   "id": "314f9957",
   "metadata": {},
   "outputs": [],
   "source": [
    "batch_size = 10\n",
    "num_epochs = num_epochs\n",
    "x = 20 # # x is the number of images\n",
    "y = 120 # width of the image\n",
    "z = 120 # height of the image\n",
    "classes = 5 #5 gestures \n",
    "channel = 3 #RGB"
   ]
  },
  {
   "cell_type": "code",
   "execution_count": 9,
   "id": "a0c4305c",
   "metadata": {},
   "outputs": [],
   "source": [
    "from keras.models import Sequential, Model\n",
    "from keras.layers import Dense, GRU, Flatten, TimeDistributed, Flatten, BatchNormalization, Activation, Dropout, LSTM, Bidirectional\n",
    "\n",
    "from keras.applications import mobilenet_v2\n",
    "\n",
    "from keras.layers.convolutional import Conv2D, MaxPooling2D\n",
    "from keras.layers.recurrent import LSTM\n",
    "from keras.callbacks import ModelCheckpoint, ReduceLROnPlateau\n",
    "from keras import optimizers"
   ]
  },
  {
   "cell_type": "code",
   "execution_count": 10,
   "id": "783e1202",
   "metadata": {},
   "outputs": [
    {
     "name": "stdout",
     "output_type": "stream",
     "text": [
      "WARNING:tensorflow:`input_shape` is undefined or non-square, or `rows` is not in [96, 128, 160, 192, 224]. Weights for input shape (224, 224) will be loaded as the default.\n"
     ]
    }
   ],
   "source": [
    "pretrained_mobilenet = mobilenet_v2.MobileNetV2(weights='imagenet', include_top=False)"
   ]
  },
  {
   "cell_type": "code",
   "execution_count": 11,
   "id": "e4d62b0b",
   "metadata": {},
   "outputs": [],
   "source": [
    "model_6 = Sequential()\n",
    "model_6.add(TimeDistributed(pretrained_mobilenet,input_shape=(x,y,z,channel)))\n",
    "\n",
    "model_6.add(TimeDistributed(BatchNormalization()))\n",
    "model_6.add(TimeDistributed(MaxPooling2D((2, 2))))\n",
    "model_6.add(TimeDistributed(Flatten()))\n",
    "\n",
    "model_6.add(GRU(128))\n",
    "model_6.add(Dropout(0.25))\n",
    "\n",
    "model_6.add(Dense(128,activation='relu'))\n",
    "model_6.add(Dropout(0.25))\n",
    "\n",
    "model_6.add(Dense(5, activation='softmax'))"
   ]
  },
  {
   "cell_type": "code",
   "execution_count": 12,
   "id": "c4c4d430",
   "metadata": {},
   "outputs": [
    {
     "name": "stdout",
     "output_type": "stream",
     "text": [
      "Model: \"sequential\"\n",
      "_________________________________________________________________\n",
      "Layer (type)                 Output Shape              Param #   \n",
      "=================================================================\n",
      "time_distributed (TimeDistri (None, 20, 3, 3, 1280)    2257984   \n",
      "_________________________________________________________________\n",
      "time_distributed_1 (TimeDist (None, 20, 3, 3, 1280)    5120      \n",
      "_________________________________________________________________\n",
      "time_distributed_2 (TimeDist (None, 20, 1, 1, 1280)    0         \n",
      "_________________________________________________________________\n",
      "time_distributed_3 (TimeDist (None, 20, 1280)          0         \n",
      "_________________________________________________________________\n",
      "gru (GRU)                    (None, 128)               541440    \n",
      "_________________________________________________________________\n",
      "dropout (Dropout)            (None, 128)               0         \n",
      "_________________________________________________________________\n",
      "dense (Dense)                (None, 128)               16512     \n",
      "_________________________________________________________________\n",
      "dropout_1 (Dropout)          (None, 128)               0         \n",
      "_________________________________________________________________\n",
      "dense_1 (Dense)              (None, 5)                 645       \n",
      "=================================================================\n",
      "Total params: 2,821,701\n",
      "Trainable params: 2,785,029\n",
      "Non-trainable params: 36,672\n",
      "_________________________________________________________________\n",
      "None\n"
     ]
    }
   ],
   "source": [
    "train_generator6 = generator(train_path, train_doc, batch_size)\n",
    "val_generator6 = generator(val_path, val_doc, batch_size)\n",
    "\n",
    "optimiser = optimizers.Adam(lr=0.0001) #write your optimizer\n",
    "model_6.compile(optimizer=optimiser, loss='categorical_crossentropy', metrics=['categorical_accuracy'])\n",
    "print(model_6.summary())"
   ]
  },
  {
   "cell_type": "code",
   "execution_count": 13,
   "id": "f7403ab1",
   "metadata": {},
   "outputs": [
    {
     "name": "stdout",
     "output_type": "stream",
     "text": [
      "WARNING:tensorflow:`period` argument is deprecated. Please use `save_freq` to specify the frequency in number of batches seen.\n"
     ]
    }
   ],
   "source": [
    "model_name = 'model_init' + '_' + str(curr_dt_time).replace(' ','').replace(':','_') + '/'\n",
    "    \n",
    "if not os.path.exists(model_name):\n",
    "    os.mkdir(model_name)\n",
    "        \n",
    "filepath = model_name + 'model-{epoch:05d}-{loss:.5f}-{categorical_accuracy:.5f}-{val_loss:.5f}-{val_categorical_accuracy:.5f}.h5'\n",
    "\n",
    "checkpoint = ModelCheckpoint(filepath, monitor='val_loss', verbose=1, save_best_only=False, save_weights_only=False, mode='auto', period=1)\n",
    "\n",
    "LR = ReduceLROnPlateau(monitor='val_loss', factor=0.5, patience=2, cooldown=1, verbose=1)  # write the REducelronplateau code here\n",
    "callbacks_list = [checkpoint, LR]"
   ]
  },
  {
   "cell_type": "code",
   "execution_count": 14,
   "id": "484fee7b",
   "metadata": {},
   "outputs": [],
   "source": [
    "if (num_train_sequences%batch_size) == 0:\n",
    "    steps_per_epoch = int(num_train_sequences/batch_size)\n",
    "else:\n",
    "    steps_per_epoch = (num_train_sequences//batch_size) + 1\n",
    "\n",
    "if (num_val_sequences%batch_size) == 0:\n",
    "    validation_steps = int(num_val_sequences/batch_size)\n",
    "else:\n",
    "    validation_steps = (num_val_sequences//batch_size) + 1"
   ]
  },
  {
   "cell_type": "code",
   "execution_count": 15,
   "id": "67b125bc",
   "metadata": {},
   "outputs": [],
   "source": [
    "def plot(history):\n",
    "    fig, axes = plt.subplots(nrows=1, ncols=2, figsize=(15,4))\n",
    "    axes[0].plot(history.history['loss'])   \n",
    "    axes[0].plot(history.history['val_loss'])\n",
    "    axes[0].legend(['loss','val_loss'])\n",
    "    plt.ylabel('Loss')\n",
    "    plt.xlabel('Epoch')\n",
    "    \n",
    "\n",
    "\n",
    "    axes[1].plot(history.history['categorical_accuracy'])   \n",
    "    axes[1].plot(history.history['val_categorical_accuracy'])\n",
    "    axes[1].legend(['categorical_accuracy','val_categorical_accuracy'])\n",
    "    plt.ylabel('Accuracy')\n",
    "    plt.xlabel('Epoch')\n",
    "    \n",
    "    plt.show()"
   ]
  },
  {
   "cell_type": "code",
   "execution_count": 16,
   "id": "c8a00a23",
   "metadata": {
    "scrolled": true
   },
   "outputs": [
    {
     "name": "stdout",
     "output_type": "stream",
     "text": [
      "Source path =  F:\\UPGRAD\\5. Deep Learning\\Module 6 - Gesture recognition assignment\\Project_data\\Project_data\\train ; batch size = 10\n"
     ]
    },
    {
     "name": "stderr",
     "output_type": "stream",
     "text": [
      "C:\\Users\\AKHIL\\anaconda3\\lib\\site-packages\\tensorflow\\python\\keras\\engine\\training.py:1844: UserWarning: `Model.fit_generator` is deprecated and will be removed in a future version. Please use `Model.fit`, which supports generators.\n",
      "  warnings.warn('`Model.fit_generator` is deprecated and '\n"
     ]
    },
    {
     "name": "stdout",
     "output_type": "stream",
     "text": [
      "Epoch 1/20\n",
      "65/67 [============================>.] - ETA: 21s - loss: 1.7654 - categorical_accuracy: 0.2761Batch:  67 Index: 10\n",
      "67/67 [==============================] - ETA: 0s - loss: 1.7617 - categorical_accuracy: 0.2772 Source path =  F:\\UPGRAD\\5. Deep Learning\\Module 6 - Gesture recognition assignment\\Project_data\\Project_data\\val ; batch size = 10\n",
      "67/67 [==============================] - 750s 11s/step - loss: 1.7599 - categorical_accuracy: 0.2777 - val_loss: 1.4737 - val_categorical_accuracy: 0.3800\n",
      "\n",
      "Epoch 00001: saving model to model_init_2021-06-2618_20_31.521353\\model-00001-1.63955-0.31222-1.47368-0.38000.h5\n",
      "Epoch 2/20\n",
      "67/67 [==============================] - 197s 3s/step - loss: 1.4324 - categorical_accuracy: 0.3919 - val_loss: 1.2804 - val_categorical_accuracy: 0.4800\n",
      "\n",
      "Epoch 00002: saving model to model_init_2021-06-2618_20_31.521353\\model-00002-1.35857-0.44279-1.28044-0.48000.h5\n",
      "Epoch 3/20\n",
      "67/67 [==============================] - 189s 3s/step - loss: 1.2651 - categorical_accuracy: 0.5213 - val_loss: 1.1756 - val_categorical_accuracy: 0.5700\n",
      "\n",
      "Epoch 00003: saving model to model_init_2021-06-2618_20_31.521353\\model-00003-1.20006-0.54726-1.17557-0.57000.h5\n",
      "Epoch 4/20\n",
      "67/67 [==============================] - 188s 3s/step - loss: 1.0724 - categorical_accuracy: 0.5550 - val_loss: 1.0828 - val_categorical_accuracy: 0.5200\n",
      "\n",
      "Epoch 00004: saving model to model_init_2021-06-2618_20_31.521353\\model-00004-1.16327-0.53731-1.08285-0.52000.h5\n",
      "Epoch 5/20\n",
      "67/67 [==============================] - 191s 3s/step - loss: 1.0982 - categorical_accuracy: 0.5347 - val_loss: 0.8979 - val_categorical_accuracy: 0.6200\n",
      "\n",
      "Epoch 00005: saving model to model_init_2021-06-2618_20_31.521353\\model-00005-1.10847-0.53234-0.89788-0.62000.h5\n",
      "Epoch 6/20\n",
      "67/67 [==============================] - 188s 3s/step - loss: 0.9902 - categorical_accuracy: 0.6138 - val_loss: 0.8163 - val_categorical_accuracy: 0.7000\n",
      "\n",
      "Epoch 00006: saving model to model_init_2021-06-2618_20_31.521353\\model-00006-0.93234-0.62687-0.81628-0.70000.h5\n",
      "Epoch 7/20\n",
      "67/67 [==============================] - 187s 3s/step - loss: 0.8859 - categorical_accuracy: 0.6626 - val_loss: 0.7149 - val_categorical_accuracy: 0.7300\n",
      "\n",
      "Epoch 00007: saving model to model_init_2021-06-2618_20_31.521353\\model-00007-0.79140-0.70149-0.71491-0.73000.h5\n",
      "Epoch 8/20\n",
      "67/67 [==============================] - 189s 3s/step - loss: 0.8260 - categorical_accuracy: 0.6955 - val_loss: 0.6865 - val_categorical_accuracy: 0.7200\n",
      "\n",
      "Epoch 00008: saving model to model_init_2021-06-2618_20_31.521353\\model-00008-0.84137-0.68657-0.68648-0.72000.h5\n",
      "Epoch 9/20\n",
      "67/67 [==============================] - 188s 3s/step - loss: 0.8359 - categorical_accuracy: 0.6905 - val_loss: 0.6964 - val_categorical_accuracy: 0.7200\n",
      "\n",
      "Epoch 00009: saving model to model_init_2021-06-2618_20_31.521353\\model-00009-0.76442-0.74627-0.69645-0.72000.h5\n",
      "Epoch 10/20\n",
      "67/67 [==============================] - 187s 3s/step - loss: 0.6243 - categorical_accuracy: 0.7446 - val_loss: 0.6711 - val_categorical_accuracy: 0.7600\n",
      "\n",
      "Epoch 00010: saving model to model_init_2021-06-2618_20_31.521353\\model-00010-0.56720-0.76617-0.67109-0.76000.h5\n",
      "Epoch 11/20\n",
      "67/67 [==============================] - 187s 3s/step - loss: 0.7220 - categorical_accuracy: 0.7219 - val_loss: 0.6209 - val_categorical_accuracy: 0.7700\n",
      "\n",
      "Epoch 00011: saving model to model_init_2021-06-2618_20_31.521353\\model-00011-0.66950-0.75124-0.62092-0.77000.h5\n",
      "Epoch 12/20\n",
      "67/67 [==============================] - 186s 3s/step - loss: 0.5919 - categorical_accuracy: 0.8239 - val_loss: 0.5322 - val_categorical_accuracy: 0.7800\n",
      "\n",
      "Epoch 00012: saving model to model_init_2021-06-2618_20_31.521353\\model-00012-0.52206-0.83582-0.53220-0.78000.h5\n",
      "Epoch 13/20\n",
      "67/67 [==============================] - 189s 3s/step - loss: 0.4240 - categorical_accuracy: 0.8646 - val_loss: 0.5213 - val_categorical_accuracy: 0.8000\n",
      "\n",
      "Epoch 00013: saving model to model_init_2021-06-2618_20_31.521353\\model-00013-0.42256-0.86567-0.52126-0.80000.h5\n",
      "Epoch 14/20\n",
      "67/67 [==============================] - 205s 3s/step - loss: 0.4975 - categorical_accuracy: 0.8135 - val_loss: 0.5854 - val_categorical_accuracy: 0.7400\n",
      "\n",
      "Epoch 00014: saving model to model_init_2021-06-2618_20_31.521353\\model-00014-0.46845-0.83582-0.58540-0.74000.h5\n",
      "Epoch 15/20\n",
      "67/67 [==============================] - 202s 3s/step - loss: 0.4084 - categorical_accuracy: 0.8533 - val_loss: 0.5888 - val_categorical_accuracy: 0.7600\n",
      "\n",
      "Epoch 00015: saving model to model_init_2021-06-2618_20_31.521353\\model-00015-0.39510-0.86070-0.58880-0.76000.h5\n",
      "\n",
      "Epoch 00015: ReduceLROnPlateau reducing learning rate to 4.999999873689376e-05.\n",
      "Epoch 16/20\n",
      "67/67 [==============================] - 204s 3s/step - loss: 0.2771 - categorical_accuracy: 0.8923 - val_loss: 0.5921 - val_categorical_accuracy: 0.7900\n",
      "\n",
      "Epoch 00016: saving model to model_init_2021-06-2618_20_31.521353\\model-00016-0.31490-0.88557-0.59207-0.79000.h5\n",
      "Epoch 17/20\n",
      "67/67 [==============================] - 204s 3s/step - loss: 0.2766 - categorical_accuracy: 0.9124 - val_loss: 0.3970 - val_categorical_accuracy: 0.8600\n",
      "\n",
      "Epoch 00017: saving model to model_init_2021-06-2618_20_31.521353\\model-00017-0.25537-0.93035-0.39699-0.86000.h5\n",
      "Epoch 18/20\n",
      "67/67 [==============================] - 204s 3s/step - loss: 0.2111 - categorical_accuracy: 0.9437 - val_loss: 0.4470 - val_categorical_accuracy: 0.8200\n",
      "\n",
      "Epoch 00018: saving model to model_init_2021-06-2618_20_31.521353\\model-00018-0.28846-0.89055-0.44700-0.82000.h5\n",
      "Epoch 19/20\n",
      "67/67 [==============================] - 205s 3s/step - loss: 0.3488 - categorical_accuracy: 0.8643 - val_loss: 0.4039 - val_categorical_accuracy: 0.8600\n",
      "\n",
      "Epoch 00019: saving model to model_init_2021-06-2618_20_31.521353\\model-00019-0.27603-0.90050-0.40392-0.86000.h5\n",
      "\n",
      "Epoch 00019: ReduceLROnPlateau reducing learning rate to 2.499999936844688e-05.\n",
      "Epoch 20/20\n",
      "67/67 [==============================] - 209s 3s/step - loss: 0.2766 - categorical_accuracy: 0.9044 - val_loss: 0.4539 - val_categorical_accuracy: 0.8000\n",
      "\n",
      "Epoch 00020: saving model to model_init_2021-06-2618_20_31.521353\\model-00020-0.28874-0.91542-0.45390-0.80000.h5\n"
     ]
    }
   ],
   "source": [
    "history6 = model_6.fit_generator(train_generator6, steps_per_epoch=steps_per_epoch, epochs=num_epochs, verbose=1, \n",
    "                    callbacks=callbacks_list, validation_data=val_generator6, \n",
    "                    validation_steps=validation_steps, class_weight=None, workers=1, initial_epoch=0)"
   ]
  },
  {
   "cell_type": "code",
   "execution_count": 17,
   "id": "5da6087d",
   "metadata": {},
   "outputs": [
    {
     "data": {
      "image/png": "[encoded data removed]",
      "text/plain": [
       "<Figure size 1080x288 with 2 Axes>"
      ]
     },
     "metadata": {
      "needs_background": "light"
     },
     "output_type": "display_data"
    }
   ],
   "source": [
    "plot(history6)"
   ]
  },
  {
   "cell_type": "code",
   "execution_count": null,
   "id": "53b62dae",
   "metadata": {},
   "outputs": [],
   "source": []
  }
 ],
 "metadata": {
  "kernelspec": {
   "display_name": "Python 3",
   "language": "python",
   "name": "python3"
  },
  "language_info": {
   "codemirror_mode": {
    "name": "ipython",
    "version": 3
   },
   "file_extension": ".py",
   "mimetype": "text/x-python",
   "name": "python",
   "nbconvert_exporter": "python",
   "pygments_lexer": "ipython3",
   "version": "3.8.3"
  }
 },
 "nbformat": 4,
 "nbformat_minor": 5
}
