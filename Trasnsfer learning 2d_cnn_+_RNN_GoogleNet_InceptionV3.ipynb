{
 "cells": [
  {
   "cell_type": "markdown",
   "id": "63edd74e",
   "metadata": {},
   "source": [
    "# Gesture Recognition\n",
    "In this group project, you are going to build a 3D Conv model that will be able to predict the 5 gestures correctly. Please import the following libraries to get started. Once you have completed the code you can download the notebook for making a submission."
   ]
  },
  {
   "cell_type": "code",
   "execution_count": 1,
   "id": "61317c12",
   "metadata": {},
   "outputs": [],
   "source": [
    "import numpy as np\n",
    "import os\n",
    "from imageio import imread\n",
    "from skimage.transform import resize\n",
    "import datetime\n",
    "import os\n",
    "import matplotlib.pyplot as plt\n",
    "%matplotlib inline"
   ]
  },
  {
   "cell_type": "markdown",
   "id": "4401b97b",
   "metadata": {},
   "source": [
    "We set the random seed so that the results don't vary drastically."
   ]
  },
  {
   "cell_type": "code",
   "execution_count": 2,
   "id": "a4ae1518",
   "metadata": {},
   "outputs": [],
   "source": [
    "np.random.seed(30)\n",
    "import random as rn\n",
    "rn.seed(30)\n",
    "from tensorflow import keras\n",
    "import tensorflow as tf\n",
    "tf.random.set_seed(30)"
   ]
  },
  {
   "cell_type": "markdown",
   "id": "98146872",
   "metadata": {},
   "source": [
    "In this block, you read the folder names for training and validation. You also set the `batch_size` here. Note that you set the batch size in such a way that you are able to use the GPU in full capacity. You keep increasing the batch size until the machine throws an error."
   ]
  },
  {
   "cell_type": "markdown",
   "id": "3b0b2d01",
   "metadata": {},
   "source": [
    "**data path: /home/datasets/Project_data**"
   ]
  },
  {
   "cell_type": "code",
   "execution_count": 3,
   "id": "d0c6ccdc",
   "metadata": {},
   "outputs": [],
   "source": [
    "train_doc = np.random.permutation(open('F:\\\\UPGRAD\\\\5. Deep Learning\\\\Module 6 - Gesture recognition assignment\\\\Project_data\\\\Project_data\\\\train.csv').readlines())\n",
    "val_doc = np.random.permutation(open('F:\\\\UPGRAD\\\\5. Deep Learning\\\\Module 6 - Gesture recognition assignment\\\\Project_data\\\\Project_data\\\\val.csv').readlines())\n",
    "batch_size = 64 #experiment with the batch size"
   ]
  },
  {
   "cell_type": "markdown",
   "id": "28e23a0e",
   "metadata": {},
   "source": [
    "## Generator\n",
    "This is one of the most important part of the code. The overall structure of the generator has been given. In the generator, you are going to preprocess the images as you have images of 2 different dimensions as well as create a batch of video frames. You have to experiment with `img_idx`, `y`,`z` and normalization such that you get high accuracy."
   ]
  },
  {
   "cell_type": "code",
   "execution_count": 4,
   "id": "967edbd5",
   "metadata": {},
   "outputs": [],
   "source": [
    "img_idx=0"
   ]
  },
  {
   "cell_type": "code",
   "execution_count": 5,
   "id": "451edcf1",
   "metadata": {},
   "outputs": [],
   "source": [
    "x = 20 #umber of images selected in img_idx\n",
    "y = 120 #size of image \n",
    "z = 120 #size of image "
   ]
  },
  {
   "cell_type": "code",
   "execution_count": 6,
   "id": "f1843375",
   "metadata": {},
   "outputs": [],
   "source": [
    "def generator(source_path, folder_list, batch_size):\n",
    "    print( 'Source path = ', source_path, '; batch size =', batch_size)\n",
    "    # Range is selected as (5,x+5) so that 20 images from the center of 30 images are selected (5th image to 24th image)\n",
    "    img_idx = [x for x in range(5,x+5)] #create a list of image numbers you want to use for a particular video\n",
    "    while True:\n",
    "        t = np.random.permutation(folder_list)\n",
    "        num_batches = len(folder_list)//batch_size # calculate the number of batches\n",
    "        for batch in range(num_batches): # we iterate over the number of batches\n",
    "            batch_data = np.zeros((batch_size,x,y,z,3)) # x is the number of images you use for each video, (y,z) is the final size of the input images and 3 is the number of channels RGB\n",
    "            batch_labels = np.zeros((batch_size,5)) # batch_labels is the one hot representation of the output\n",
    "            for folder in range(batch_size): # iterate over the batch_size\n",
    "                imgs = os.listdir(source_path+'/'+ t[folder + (batch*batch_size)].split(';')[0]) # read all the images in the folder\n",
    "                for idx,item in enumerate(img_idx): #  Iterate iver the frames/images of a folder to read them in\n",
    "                    image = imread(source_path+'/'+ t[folder + (batch*batch_size)].strip().split(';')[0]+'/'+imgs[item]).astype(np.float32)\n",
    "                    \n",
    "                    #crop the images and resize them. Note that the images are of 2 different shape \n",
    "                    #and the conv3D will throw error if the inputs in a batch have different shapes\n",
    "                    img_new = resize(image,(y,z))\n",
    "                    \n",
    "                    img_new = img_new/255 # normalising \n",
    "                    \n",
    "                    batch_data[folder,idx,:,:,0] = (img_new[:,:,0])#normalise and feed in the image\n",
    "                    batch_data[folder,idx,:,:,1] = (img_new[:,:,1])#normalise and feed in the image\n",
    "                    batch_data[folder,idx,:,:,2] = (img_new[:,:,2])#normalise and feed in the image\n",
    "                    \n",
    "                batch_labels[folder, int(t[folder + (batch*batch_size)].strip().split(';')[2])] = 1\n",
    "            yield batch_data, batch_labels #you yield the batch_data and the batch_labels, remember what does yield do\n",
    "\n",
    "        \n",
    "        # write the code for the remaining data points which are left after full batches\n",
    "        if (len(folder_list) != batch_size*num_batches):\n",
    "            print(\"Batch: \",num_batches+1,\"Index:\", batch_size)\n",
    "            batch_size = len(folder_list) - (batch_size*num_batches)\n",
    "            # new batch size is the rest of the folders present after dividing the batch\n",
    "            for batch in range(num_batches): # we iterate over the number of batches\n",
    "                batch_data = np.zeros((batch_size,x,y,z,3)) # x is the number of images you use for each video, (y,z) is the final size of the input images and 3 is the number of channels RGB\n",
    "                batch_labels = np.zeros((batch_size,5)) # batch_labels is the one hot representation of the output\n",
    "                for folder in range(batch_size): # iterate over the batch_size\n",
    "                    imgs = os.listdir(source_path+'/'+ t[folder + (batch*batch_size)].split(';')[0]) # read all the images in the folder\n",
    "                    for idx,item in enumerate(img_idx): #  Iterate iver the frames/images of a folder to read them in\n",
    "                        image = imread(source_path+'/'+ t[folder + (batch*batch_size)].strip().split(';')[0]+'/'+imgs[item]).astype(np.float32)\n",
    "                        \n",
    "                        #crop the images and resize them. Note that the images are of 2 different shape \n",
    "                        #and the conv3D will throw error if the inputs in a batch have different shapes\n",
    "                        img_new = resize(image,(y,z))\n",
    "                    \n",
    "                        img_new = img_new/255 # normalising \n",
    "                    \n",
    "                        batch_data[folder,idx,:,:,0] = (img_new[:,:,0])#normalise and feed in the image\n",
    "                        batch_data[folder,idx,:,:,1] = (img_new[:,:,1])#normalise and feed in the image\n",
    "                        batch_data[folder,idx,:,:,2] = (img_new[:,:,2])#normalise and feed in the image\n",
    "                    \n",
    "                    batch_labels[folder, int(t[folder + (batch*batch_size)].strip().split(';')[2])] = 1\n",
    "                yield batch_data, batch_labels #you yield the batch_data and the batch_labels, remember what does yield do"
   ]
  },
  {
   "cell_type": "markdown",
   "id": "637db2a7",
   "metadata": {},
   "source": [
    "Note here that a video is represented above in the generator as (number of images, height, width, number of channels). Take this into consideration while creating the model architecture."
   ]
  },
  {
   "cell_type": "code",
   "execution_count": 7,
   "id": "13b81b12",
   "metadata": {},
   "outputs": [
    {
     "name": "stdout",
     "output_type": "stream",
     "text": [
      "# training sequences = 663\n",
      "# validation sequences = 100\n",
      "# epochs = 10\n"
     ]
    }
   ],
   "source": [
    "curr_dt_time = datetime.datetime.now()\n",
    "train_path = 'F:\\\\UPGRAD\\\\5. Deep Learning\\\\Module 6 - Gesture recognition assignment\\\\Project_data\\\\Project_data\\\\train'\n",
    "val_path = 'F:\\\\UPGRAD\\\\5. Deep Learning\\\\Module 6 - Gesture recognition assignment\\\\Project_data\\\\Project_data\\\\val'\n",
    "num_train_sequences = len(train_doc)\n",
    "print('# training sequences =', num_train_sequences)\n",
    "num_val_sequences = len(val_doc)\n",
    "print('# validation sequences =', num_val_sequences)\n",
    "num_epochs = 10 # choose the number of epochs\n",
    "print ('# epochs =', num_epochs)"
   ]
  },
  {
   "cell_type": "markdown",
   "id": "5c6b7563",
   "metadata": {},
   "source": [
    "### Model 2: 2D Conv + RNN (Transfer Learning using GoogleNet_InceptionV3t)"
   ]
  },
  {
   "cell_type": "code",
   "execution_count": 8,
   "id": "314f9957",
   "metadata": {},
   "outputs": [],
   "source": [
    "batch_size = 10\n",
    "num_epochs = 20\n",
    "x = 20 # # x is the number of images\n",
    "y = 120 # width of the image\n",
    "z = 120 # height of the image\n",
    "classes = 5 #5 gestures \n",
    "channel = 3 #RGB"
   ]
  },
  {
   "cell_type": "code",
   "execution_count": 9,
   "id": "a0c4305c",
   "metadata": {},
   "outputs": [],
   "source": [
    "from keras.models import Sequential, Model\n",
    "from keras.layers import Dense, GRU, Flatten, TimeDistributed, Flatten, BatchNormalization, Activation, Dropout, LSTM, Bidirectional\n",
    "from tensorflow.keras.applications.inception_v3 import InceptionV3\n",
    "\n",
    "from keras.layers.convolutional import Conv2D, MaxPooling2D\n",
    "from keras.layers.recurrent import LSTM\n",
    "from keras.callbacks import ModelCheckpoint, ReduceLROnPlateau\n",
    "from keras import optimizers"
   ]
  },
  {
   "cell_type": "code",
   "execution_count": 10,
   "id": "783e1202",
   "metadata": {},
   "outputs": [],
   "source": [
    "pretrained_mobilenet = InceptionV3(include_top = False, weights = 'imagenet')"
   ]
  },
  {
   "cell_type": "code",
   "execution_count": 11,
   "id": "e4d62b0b",
   "metadata": {},
   "outputs": [],
   "source": [
    "model_6 = Sequential()\n",
    "model_6.add(TimeDistributed(pretrained_mobilenet,input_shape=(x,y,z,channel)))\n",
    "\n",
    "model_6.add(TimeDistributed(BatchNormalization()))\n",
    "model_6.add(TimeDistributed(MaxPooling2D((2, 2))))\n",
    "model_6.add(TimeDistributed(Flatten()))\n",
    "\n",
    "model_6.add(GRU(128))\n",
    "model_6.add(Dropout(0.25))\n",
    "\n",
    "model_6.add(Dense(128,activation='relu'))\n",
    "model_6.add(Dropout(0.25))\n",
    "\n",
    "model_6.add(Dense(5, activation='softmax'))"
   ]
  },
  {
   "cell_type": "code",
   "execution_count": 12,
   "id": "c4c4d430",
   "metadata": {},
   "outputs": [
    {
     "name": "stdout",
     "output_type": "stream",
     "text": [
      "Model: \"sequential\"\n",
      "_________________________________________________________________\n",
      "Layer (type)                 Output Shape              Param #   \n",
      "=================================================================\n",
      "time_distributed (TimeDistri (None, 20, 2, 2, 2048)    21802784  \n",
      "_________________________________________________________________\n",
      "time_distributed_1 (TimeDist (None, 20, 2, 2, 2048)    8192      \n",
      "_________________________________________________________________\n",
      "time_distributed_2 (TimeDist (None, 20, 1, 1, 2048)    0         \n",
      "_________________________________________________________________\n",
      "time_distributed_3 (TimeDist (None, 20, 2048)          0         \n",
      "_________________________________________________________________\n",
      "gru (GRU)                    (None, 128)               836352    \n",
      "_________________________________________________________________\n",
      "dropout (Dropout)            (None, 128)               0         \n",
      "_________________________________________________________________\n",
      "dense (Dense)                (None, 128)               16512     \n",
      "_________________________________________________________________\n",
      "dropout_1 (Dropout)          (None, 128)               0         \n",
      "_________________________________________________________________\n",
      "dense_1 (Dense)              (None, 5)                 645       \n",
      "=================================================================\n",
      "Total params: 22,664,485\n",
      "Trainable params: 22,625,957\n",
      "Non-trainable params: 38,528\n",
      "_________________________________________________________________\n",
      "None\n"
     ]
    }
   ],
   "source": [
    "train_generator6 = generator(train_path, train_doc, batch_size)\n",
    "val_generator6 = generator(val_path, val_doc, batch_size)\n",
    "\n",
    "optimiser = optimizers.Adam(lr=0.0001) #write your optimizer\n",
    "model_6.compile(optimizer=optimiser, loss='categorical_crossentropy', metrics=['categorical_accuracy'])\n",
    "print(model_6.summary())"
   ]
  },
  {
   "cell_type": "code",
   "execution_count": 13,
   "id": "f7403ab1",
   "metadata": {},
   "outputs": [
    {
     "name": "stdout",
     "output_type": "stream",
     "text": [
      "WARNING:tensorflow:`period` argument is deprecated. Please use `save_freq` to specify the frequency in number of batches seen.\n"
     ]
    }
   ],
   "source": [
    "model_name = 'model_init' + '_' + str(curr_dt_time).replace(' ','').replace(':','_') + '/'\n",
    "    \n",
    "if not os.path.exists(model_name):\n",
    "    os.mkdir(model_name)\n",
    "        \n",
    "filepath = model_name + 'model-{epoch:05d}-{loss:.5f}-{categorical_accuracy:.5f}-{val_loss:.5f}-{val_categorical_accuracy:.5f}.h5'\n",
    "\n",
    "checkpoint = ModelCheckpoint(filepath, monitor='val_loss', verbose=1, save_best_only=False, save_weights_only=False, mode='auto', period=1)\n",
    "\n",
    "LR = ReduceLROnPlateau(monitor='val_loss', factor=0.5, patience=2, cooldown=1, verbose=1)  # write the REducelronplateau code here\n",
    "callbacks_list = [checkpoint, LR]"
   ]
  },
  {
   "cell_type": "code",
   "execution_count": 14,
   "id": "484fee7b",
   "metadata": {},
   "outputs": [],
   "source": [
    "if (num_train_sequences%batch_size) == 0:\n",
    "    steps_per_epoch = int(num_train_sequences/batch_size)\n",
    "else:\n",
    "    steps_per_epoch = (num_train_sequences//batch_size) + 1\n",
    "\n",
    "if (num_val_sequences%batch_size) == 0:\n",
    "    validation_steps = int(num_val_sequences/batch_size)\n",
    "else:\n",
    "    validation_steps = (num_val_sequences//batch_size) + 1"
   ]
  },
  {
   "cell_type": "code",
   "execution_count": 15,
   "id": "67b125bc",
   "metadata": {},
   "outputs": [],
   "source": [
    "def plot(history):\n",
    "    fig, axes = plt.subplots(nrows=1, ncols=2, figsize=(15,4))\n",
    "    axes[0].plot(history.history['loss'])   \n",
    "    axes[0].plot(history.history['val_loss'])\n",
    "    axes[0].legend(['loss','val_loss'])\n",
    "    plt.ylabel('Loss')\n",
    "    plt.xlabel('Epoch')\n",
    "    \n",
    "\n",
    "\n",
    "    axes[1].plot(history.history['categorical_accuracy'])   \n",
    "    axes[1].plot(history.history['val_categorical_accuracy'])\n",
    "    axes[1].legend(['categorical_accuracy','val_categorical_accuracy'])\n",
    "    plt.ylabel('Accuracy')\n",
    "    plt.xlabel('Epoch')\n",
    "    \n",
    "    plt.show()"
   ]
  },
  {
   "cell_type": "code",
   "execution_count": 16,
   "id": "c8a00a23",
   "metadata": {
    "scrolled": true
   },
   "outputs": [
    {
     "name": "stdout",
     "output_type": "stream",
     "text": [
      "Source path =  F:\\UPGRAD\\5. Deep Learning\\Module 6 - Gesture recognition assignment\\Project_data\\Project_data\\train ; batch size = 10\n"
     ]
    },
    {
     "name": "stderr",
     "output_type": "stream",
     "text": [
      "C:\\Users\\AKHIL\\anaconda3\\lib\\site-packages\\tensorflow\\python\\keras\\engine\\training.py:1844: UserWarning: `Model.fit_generator` is deprecated and will be removed in a future version. Please use `Model.fit`, which supports generators.\n",
      "  warnings.warn('`Model.fit_generator` is deprecated and '\n"
     ]
    },
    {
     "name": "stdout",
     "output_type": "stream",
     "text": [
      "Epoch 1/20\n",
      "65/67 [============================>.] - ETA: 18s - loss: 1.7161 - categorical_accuracy: 0.2377Batch:  67 Index: 10\n",
      "67/67 [==============================] - ETA: 0s - loss: 1.7135 - categorical_accuracy: 0.2389Source path =  F:\\UPGRAD\\5. Deep Learning\\Module 6 - Gesture recognition assignment\\Project_data\\Project_data\\val ; batch size = 10\n",
      "67/67 [==============================] - 635s 9s/step - loss: 1.7122 - categorical_accuracy: 0.2394 - val_loss: 1.3056 - val_categorical_accuracy: 0.5000\n",
      "\n",
      "Epoch 00001: saving model to model_init_2021-06-2611_05_13.306536\\model-00001-1.62799-0.27753-1.30562-0.50000.h5\n",
      "Epoch 2/20\n",
      "67/67 [==============================] - 209s 3s/step - loss: 1.4060 - categorical_accuracy: 0.3675 - val_loss: 1.5713 - val_categorical_accuracy: 0.3500\n",
      "\n",
      "Epoch 00002: saving model to model_init_2021-06-2611_05_13.306536\\model-00002-1.46239-0.37313-1.57133-0.35000.h5\n",
      "Epoch 3/20\n",
      "67/67 [==============================] - 209s 3s/step - loss: 1.4691 - categorical_accuracy: 0.3789 - val_loss: 1.1980 - val_categorical_accuracy: 0.5000\n",
      "\n",
      "Epoch 00003: saving model to model_init_2021-06-2611_05_13.306536\\model-00003-1.35687-0.44776-1.19797-0.50000.h5\n",
      "Epoch 4/20\n",
      "67/67 [==============================] - 212s 3s/step - loss: 1.1355 - categorical_accuracy: 0.5243 - val_loss: 1.0886 - val_categorical_accuracy: 0.5900\n",
      "\n",
      "Epoch 00004: saving model to model_init_2021-06-2611_05_13.306536\\model-00004-1.16248-0.51244-1.08860-0.59000.h5\n",
      "Epoch 5/20\n",
      "67/67 [==============================] - 213s 3s/step - loss: 1.0625 - categorical_accuracy: 0.5577 - val_loss: 0.9551 - val_categorical_accuracy: 0.6500\n",
      "\n",
      "Epoch 00005: saving model to model_init_2021-06-2611_05_13.306536\\model-00005-1.02255-0.54726-0.95507-0.65000.h5\n",
      "Epoch 6/20\n",
      "67/67 [==============================] - 210s 3s/step - loss: 0.8510 - categorical_accuracy: 0.6570 - val_loss: 0.9990 - val_categorical_accuracy: 0.6100\n",
      "\n",
      "Epoch 00006: saving model to model_init_2021-06-2611_05_13.306536\\model-00006-0.81614-0.67164-0.99899-0.61000.h5\n",
      "Epoch 7/20\n",
      "67/67 [==============================] - 209s 3s/step - loss: 0.8096 - categorical_accuracy: 0.6559 - val_loss: 0.8543 - val_categorical_accuracy: 0.6400\n",
      "\n",
      "Epoch 00007: saving model to model_init_2021-06-2611_05_13.306536\\model-00007-0.79560-0.68657-0.85429-0.64000.h5\n",
      "Epoch 8/20\n",
      "67/67 [==============================] - 209s 3s/step - loss: 0.7448 - categorical_accuracy: 0.7198 - val_loss: 0.7953 - val_categorical_accuracy: 0.7500\n",
      "\n",
      "Epoch 00008: saving model to model_init_2021-06-2611_05_13.306536\\model-00008-0.72988-0.75622-0.79529-0.75000.h5\n",
      "Epoch 9/20\n",
      "67/67 [==============================] - 212s 3s/step - loss: 0.8278 - categorical_accuracy: 0.6598 - val_loss: 0.8656 - val_categorical_accuracy: 0.7200\n",
      "\n",
      "Epoch 00009: saving model to model_init_2021-06-2611_05_13.306536\\model-00009-0.69464-0.72139-0.86565-0.72000.h5\n",
      "Epoch 10/20\n",
      "67/67 [==============================] - 209s 3s/step - loss: 0.5319 - categorical_accuracy: 0.8022 - val_loss: 0.8229 - val_categorical_accuracy: 0.7400\n",
      "\n",
      "Epoch 00010: saving model to model_init_2021-06-2611_05_13.306536\\model-00010-0.56820-0.79602-0.82287-0.74000.h5\n",
      "\n",
      "Epoch 00010: ReduceLROnPlateau reducing learning rate to 4.999999873689376e-05.\n",
      "Epoch 11/20\n",
      "67/67 [==============================] - 217s 3s/step - loss: 0.7803 - categorical_accuracy: 0.7619 - val_loss: 0.7677 - val_categorical_accuracy: 0.7300\n",
      "\n",
      "Epoch 00011: saving model to model_init_2021-06-2611_05_13.306536\\model-00011-0.60356-0.82090-0.76766-0.73000.h5\n",
      "Epoch 12/20\n",
      "67/67 [==============================] - 241s 4s/step - loss: 0.4824 - categorical_accuracy: 0.7968 - val_loss: 0.7458 - val_categorical_accuracy: 0.7000\n",
      "\n",
      "Epoch 00012: saving model to model_init_2021-06-2611_05_13.306536\\model-00012-0.43223-0.84080-0.74583-0.70000.h5\n",
      "Epoch 13/20\n",
      "67/67 [==============================] - 217s 3s/step - loss: 0.4275 - categorical_accuracy: 0.8519 - val_loss: 0.7022 - val_categorical_accuracy: 0.7400\n",
      "\n",
      "Epoch 00013: saving model to model_init_2021-06-2611_05_13.306536\\model-00013-0.37524-0.87065-0.70224-0.74000.h5\n",
      "Epoch 14/20\n",
      "67/67 [==============================] - 214s 3s/step - loss: 0.3090 - categorical_accuracy: 0.9050 - val_loss: 0.7390 - val_categorical_accuracy: 0.7300\n",
      "\n",
      "Epoch 00014: saving model to model_init_2021-06-2611_05_13.306536\\model-00014-0.31275-0.90547-0.73897-0.73000.h5\n",
      "Epoch 15/20\n",
      "67/67 [==============================] - 227s 3s/step - loss: 0.2829 - categorical_accuracy: 0.8961 - val_loss: 0.7819 - val_categorical_accuracy: 0.7300\n",
      "\n",
      "Epoch 00015: saving model to model_init_2021-06-2611_05_13.306536\\model-00015-0.32553-0.88060-0.78193-0.73000.h5\n",
      "\n",
      "Epoch 00015: ReduceLROnPlateau reducing learning rate to 2.499999936844688e-05.\n",
      "Epoch 16/20\n",
      "67/67 [==============================] - 216s 3s/step - loss: 0.4563 - categorical_accuracy: 0.8696 - val_loss: 0.6914 - val_categorical_accuracy: 0.7300\n",
      "\n",
      "Epoch 00016: saving model to model_init_2021-06-2611_05_13.306536\\model-00016-0.36685-0.88557-0.69139-0.73000.h5\n",
      "Epoch 17/20\n",
      "67/67 [==============================] - 214s 3s/step - loss: 0.2440 - categorical_accuracy: 0.9175 - val_loss: 0.6722 - val_categorical_accuracy: 0.7800\n",
      "\n",
      "Epoch 00017: saving model to model_init_2021-06-2611_05_13.306536\\model-00017-0.19834-0.93532-0.67216-0.78000.h5\n",
      "Epoch 18/20\n",
      "67/67 [==============================] - 209s 3s/step - loss: 0.1727 - categorical_accuracy: 0.9730 - val_loss: 0.7540 - val_categorical_accuracy: 0.7200\n",
      "\n",
      "Epoch 00018: saving model to model_init_2021-06-2611_05_13.306536\\model-00018-0.25474-0.92537-0.75397-0.72000.h5\n",
      "Epoch 19/20\n",
      "67/67 [==============================] - 210s 3s/step - loss: 0.2648 - categorical_accuracy: 0.9291 - val_loss: 0.7719 - val_categorical_accuracy: 0.7600\n",
      "\n",
      "Epoch 00019: saving model to model_init_2021-06-2611_05_13.306536\\model-00019-0.21241-0.94527-0.77188-0.76000.h5\n",
      "\n",
      "Epoch 00019: ReduceLROnPlateau reducing learning rate to 1.249999968422344e-05.\n",
      "Epoch 20/20\n",
      "67/67 [==============================] - 215s 3s/step - loss: 0.1936 - categorical_accuracy: 0.9218 - val_loss: 0.7599 - val_categorical_accuracy: 0.7100\n",
      "\n",
      "Epoch 00020: saving model to model_init_2021-06-2611_05_13.306536\\model-00020-0.23802-0.90050-0.75992-0.71000.h5\n"
     ]
    }
   ],
   "source": [
    "history6 = model_6.fit_generator(train_generator6, steps_per_epoch=steps_per_epoch, epochs=num_epochs, verbose=1, \n",
    "                    callbacks=callbacks_list, validation_data=val_generator6, \n",
    "                    validation_steps=validation_steps, class_weight=None, workers=1, initial_epoch=0)"
   ]
  },
  {
   "cell_type": "code",
   "execution_count": 17,
   "id": "5da6087d",
   "metadata": {},
   "outputs": [
    {
     "data": {
      "image/png": "[encoded data removed]",
      "text/plain": [
       "<Figure size 1080x288 with 2 Axes>"
      ]
     },
     "metadata": {
      "needs_background": "light"
     },
     "output_type": "display_data"
    }
   ],
   "source": [
    "plot(history6)"
   ]
  },
  {
   "cell_type": "code",
   "execution_count": null,
   "id": "b72cf192",
   "metadata": {},
   "outputs": [],
   "source": []
  }
 ],
 "metadata": {
  "kernelspec": {
   "display_name": "Python 3",
   "language": "python",
   "name": "python3"
  },
  "language_info": {
   "codemirror_mode": {
    "name": "ipython",
    "version": 3
   },
   "file_extension": ".py",
   "mimetype": "text/x-python",
   "name": "python",
   "nbconvert_exporter": "python",
   "pygments_lexer": "ipython3",
   "version": "3.8.3"
  }
 },
 "nbformat": 4,
 "nbformat_minor": 5
}
